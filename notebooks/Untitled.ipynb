{
 "cells": [
  {
   "cell_type": "code",
   "execution_count": 1,
   "id": "6c667304",
   "metadata": {},
   "outputs": [
    {
     "ename": "FileNotFoundError",
     "evalue": "[Errno 2] No such file or directory: 'anna.txt'",
     "output_type": "error",
     "traceback": [
      "\u001b[1;31m---------------------------------------------------------------------------\u001b[0m",
      "\u001b[1;31mFileNotFoundError\u001b[0m                         Traceback (most recent call last)",
      "Input \u001b[1;32mIn [1]\u001b[0m, in \u001b[0;36m<cell line: 1>\u001b[1;34m()\u001b[0m\n\u001b[1;32m----> 1\u001b[0m \u001b[38;5;28;01mwith\u001b[39;00m \u001b[38;5;28;43mopen\u001b[39;49m\u001b[43m(\u001b[49m\u001b[38;5;124;43m'\u001b[39;49m\u001b[38;5;124;43manna.txt\u001b[39;49m\u001b[38;5;124;43m'\u001b[39;49m\u001b[43m,\u001b[49m\u001b[43m \u001b[49m\u001b[38;5;124;43m'\u001b[39;49m\u001b[38;5;124;43mr\u001b[39;49m\u001b[38;5;124;43m'\u001b[39;49m\u001b[43m)\u001b[49m \u001b[38;5;28;01mas\u001b[39;00m f:\n\u001b[0;32m      2\u001b[0m     text \u001b[38;5;241m=\u001b[39m f\u001b[38;5;241m.\u001b[39mread()\n",
      "\u001b[1;31mFileNotFoundError\u001b[0m: [Errno 2] No such file or directory: 'anna.txt'"
     ]
    }
   ],
   "source": [
    "with open('anna.txt', 'r') as f:\n",
    "    text = f.read()"
   ]
  },
  {
   "cell_type": "code",
   "execution_count": null,
   "id": "4a3b506c",
   "metadata": {},
   "outputs": [],
   "source": [
    "print(text)"
   ]
  },
  {
   "cell_type": "code",
   "execution_count": null,
   "id": "7350cf7c",
   "metadata": {},
   "outputs": [],
   "source": [
    "with open('ana.txt', 'w') as f:\n",
    "    text = f.write('A new sentence.')"
   ]
  },
  {
   "cell_type": "code",
   "execution_count": null,
   "id": "2ebfe1ae",
   "metadata": {},
   "outputs": [],
   "source": [
    "with open('ana.txt', 'a') as f:\n",
    "    text = f.write('\\nAnother new sentence.')"
   ]
  },
  {
   "cell_type": "code",
   "execution_count": null,
   "id": "ccd1160a",
   "metadata": {},
   "outputs": [],
   "source": [
    "import PyPDF3"
   ]
  },
  {
   "cell_type": "code",
   "execution_count": null,
   "id": "5cc00ada",
   "metadata": {},
   "outputs": [],
   "source": [
    "dir(PyPDF3)"
   ]
  },
  {
   "cell_type": "code",
   "execution_count": null,
   "id": "0f183ead",
   "metadata": {},
   "outputs": [],
   "source": [
    "with open(\"The-Prince.pdf\", \"rb\") as f:\n",
    "    pdf = PyPDF3.PdfFileReader(f)\n",
    "    page = pdf.getPage(0)\n",
    "    text = page.extractText()"
   ]
  },
  {
   "cell_type": "code",
   "execution_count": null,
   "id": "e5b58e6d",
   "metadata": {},
   "outputs": [],
   "source": [
    "print(text)"
   ]
  },
  {
   "cell_type": "code",
   "execution_count": null,
   "id": "9cf401ff",
   "metadata": {},
   "outputs": [],
   "source": [
    "with open(\"The-Prince.pdf\", \"rb\") as f:\n",
    "    pdf = PyPDF3.PdfFileReader(f)\n",
    "    page1 = pdf.getPage(0)\n",
    "    page2 = pdf.getPage(1)\n",
    "    text = page1.extractText() + page2.extractText()"
   ]
  },
  {
   "cell_type": "code",
   "execution_count": null,
   "id": "89d9ccf9",
   "metadata": {
    "scrolled": true
   },
   "outputs": [],
   "source": [
    "print(text)"
   ]
  },
  {
   "cell_type": "code",
   "execution_count": null,
   "id": "95ee07f2",
   "metadata": {},
   "outputs": [],
   "source": [
    "def get_text(fpath):\n",
    "    with open(fpath, \"rb\") as f:\n",
    "        pdf = PyPDF3.PdfFileReader(f)\n",
    "        text = str()\n",
    "        for page_num in range(pdf.numPages):\n",
    "            page = pdf.getPage(page_num)\n",
    "            text = text + ' ' + page.extractText()\n",
    "    return text"
   ]
  },
  {
   "cell_type": "code",
   "execution_count": null,
   "id": "17075cb9",
   "metadata": {},
   "outputs": [],
   "source": [
    "get_text(\"The-Prince.pdf\")"
   ]
  },
  {
   "cell_type": "code",
   "execution_count": 2,
   "id": "dffb4c74",
   "metadata": {},
   "outputs": [],
   "source": [
    "import torch\n",
    "import numpy as np"
   ]
  },
  {
   "cell_type": "code",
   "execution_count": 20,
   "id": "be22af8b",
   "metadata": {},
   "outputs": [],
   "source": [
    "arr_list = [torch.randint(0, 10, size = (np.random.randint(1, 15), 3)) for n in range(5)]"
   ]
  },
  {
   "cell_type": "code",
   "execution_count": 21,
   "id": "424da6f9",
   "metadata": {},
   "outputs": [
    {
     "name": "stdout",
     "output_type": "stream",
     "text": [
      "torch.Size([5, 3])\n",
      "torch.Size([7, 3])\n",
      "torch.Size([8, 3])\n",
      "torch.Size([3, 3])\n",
      "torch.Size([1, 3])\n"
     ]
    }
   ],
   "source": [
    "for x in arr_list:\n",
    "    print(x.shape)"
   ]
  },
  {
   "cell_type": "code",
   "execution_count": 22,
   "id": "0d8604e0",
   "metadata": {},
   "outputs": [],
   "source": [
    "from torch.nn.utils import rnn"
   ]
  },
  {
   "cell_type": "code",
   "execution_count": 23,
   "id": "134a7002",
   "metadata": {},
   "outputs": [
    {
     "data": {
      "text/plain": [
       "PackedSequence(data=tensor([[9, 9, 9],\n",
       "        [9, 7, 7],\n",
       "        [7, 0, 7],\n",
       "        [2, 9, 2],\n",
       "        [2, 8, 2],\n",
       "        [7, 3, 0],\n",
       "        [9, 7, 7],\n",
       "        [9, 1, 7],\n",
       "        [4, 9, 7],\n",
       "        [6, 9, 5],\n",
       "        [7, 2, 4],\n",
       "        [5, 8, 0],\n",
       "        [3, 5, 0],\n",
       "        [4, 4, 4],\n",
       "        [3, 1, 4],\n",
       "        [1, 4, 7],\n",
       "        [0, 4, 9],\n",
       "        [3, 4, 9],\n",
       "        [1, 1, 4],\n",
       "        [6, 2, 6],\n",
       "        [9, 1, 9],\n",
       "        [1, 1, 6],\n",
       "        [6, 6, 3],\n",
       "        [7, 1, 9]]), batch_sizes=tensor([5, 4, 4, 3, 3, 2, 2, 1]), sorted_indices=tensor([2, 1, 0, 3, 4]), unsorted_indices=tensor([2, 1, 0, 3, 4]))"
      ]
     },
     "execution_count": 23,
     "metadata": {},
     "output_type": "execute_result"
    }
   ],
   "source": [
    "rnn.pack_sequence(arr_list, enforce_sorted = False)"
   ]
  },
  {
   "cell_type": "code",
   "execution_count": null,
   "id": "566ecf57",
   "metadata": {},
   "outputs": [],
   "source": [
    "rnn.PackedSequence()"
   ]
  }
 ],
 "metadata": {
  "kernelspec": {
   "display_name": "Python 3 (ipykernel)",
   "language": "python",
   "name": "python3"
  },
  "language_info": {
   "codemirror_mode": {
    "name": "ipython",
    "version": 3
   },
   "file_extension": ".py",
   "mimetype": "text/x-python",
   "name": "python",
   "nbconvert_exporter": "python",
   "pygments_lexer": "ipython3",
   "version": "3.9.13"
  }
 },
 "nbformat": 4,
 "nbformat_minor": 5
}
