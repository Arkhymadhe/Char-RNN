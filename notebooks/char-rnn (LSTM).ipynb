{
 "cells": [
  {
   "cell_type": "code",
   "execution_count": 1,
   "id": "07f42d1c",
   "metadata": {},
   "outputs": [],
   "source": [
    "import gc\n",
    "import os\n",
    "import string\n",
    "\n",
    "import matplotlib.pyplot as plt\n",
    "from jupyterthemes import jtplot\n",
    "import torch\n",
    "import numpy as np\n",
    "from torch import nn\n",
    "from torch.nn import functional as F\n",
    "from torch import optim\n",
    "from torchinfo import summary\n",
    "\n",
    "from collections import namedtuple\n",
    "import PyPDF3"
   ]
  },
  {
   "cell_type": "code",
   "execution_count": 2,
   "id": "98404cb2",
   "metadata": {},
   "outputs": [],
   "source": [
    "jtplot.style(\"gruvboxd\")"
   ]
  },
  {
   "cell_type": "code",
   "execution_count": 3,
   "id": "dd197c9d",
   "metadata": {},
   "outputs": [],
   "source": [
    "device = torch.device('cuda') if torch.cuda.is_available() else torch.device('cpu')"
   ]
  },
  {
   "cell_type": "code",
   "execution_count": 4,
   "id": "77641757",
   "metadata": {},
   "outputs": [
    {
     "data": {
      "text/plain": "device(type='cuda')"
     },
     "execution_count": 4,
     "metadata": {},
     "output_type": "execute_result"
    }
   ],
   "source": [
    "device"
   ]
  },
  {
   "cell_type": "code",
   "execution_count": 5,
   "outputs": [],
   "source": [
    "SEED = 42\n",
    "\n",
    "if device == \"cuda\":\n",
    "    torch.cuda.manual_seed(SEED)\n",
    "else:\n",
    "    torch.manual_seed(SEED)"
   ],
   "metadata": {
    "collapsed": false
   }
  },
  {
   "cell_type": "code",
   "execution_count": 6,
   "id": "bc7cb135",
   "metadata": {},
   "outputs": [],
   "source": [
    "DATA_DIR = os.getcwd().replace('notebooks', 'data')\n",
    "\n",
    "with open(os.path.join(DATA_DIR, 'anna.txt'), 'r') as file:\n",
    "    text = file.read()"
   ]
  },
  {
   "cell_type": "code",
   "execution_count": 7,
   "id": "3e114c91",
   "metadata": {},
   "outputs": [
    {
     "data": {
      "text/plain": "'Chapter 1\\n\\n\\nHappy families are all alike; every unhappy family is unhappy in its own\\nway.\\n\\nEverything was in confusion i'"
     },
     "execution_count": 7,
     "metadata": {},
     "output_type": "execute_result"
    }
   ],
   "source": [
    "text[:120]"
   ]
  },
  {
   "cell_type": "code",
   "execution_count": 8,
   "id": "11057aa4",
   "metadata": {},
   "outputs": [],
   "source": [
    "unique_chars = list(set(text))"
   ]
  },
  {
   "cell_type": "code",
   "execution_count": 9,
   "id": "67e76fe2",
   "metadata": {},
   "outputs": [
    {
     "data": {
      "text/plain": "83"
     },
     "execution_count": 9,
     "metadata": {},
     "output_type": "execute_result"
    }
   ],
   "source": [
    "len(unique_chars)"
   ]
  },
  {
   "cell_type": "code",
   "execution_count": 10,
   "id": "21953450",
   "metadata": {},
   "outputs": [
    {
     "data": {
      "text/plain": "['I',\n ')',\n 'M',\n 'X',\n 'V',\n 'F',\n 'k',\n 'z',\n 'T',\n 'w',\n 'N',\n 'C',\n 'O',\n 'i',\n 'K',\n '8',\n 'r',\n 'q',\n 'j',\n '`',\n 'e',\n '&',\n 'b',\n 'v',\n 'y',\n 'x',\n 't',\n ' ',\n '0',\n 'G',\n 'J',\n '\"',\n 'h',\n 'u',\n 'B',\n '9',\n 'U',\n 'P',\n 'n',\n ':',\n '$',\n 'L',\n '.',\n ',',\n \"'\",\n '@',\n '%',\n 'D',\n 'c',\n '?',\n 'l',\n 'A',\n ';',\n 'a',\n '-',\n '_',\n '*',\n 'H',\n 'E',\n '7',\n 'Q',\n '(',\n 's',\n 'p',\n 'Z',\n 'W',\n '4',\n '/',\n 'o',\n 'd',\n '5',\n 'Y',\n 'g',\n '2',\n 'S',\n '\\n',\n 'R',\n 'f',\n '3',\n '!',\n 'm',\n '1',\n '6']"
     },
     "execution_count": 10,
     "metadata": {},
     "output_type": "execute_result"
    }
   ],
   "source": [
    "unique_chars"
   ]
  },
  {
   "cell_type": "code",
   "execution_count": 11,
   "id": "cff3e761",
   "metadata": {},
   "outputs": [],
   "source": [
    "chars2int = {char : unique_chars.index(char) for char in unique_chars}\n",
    "int2char = {v : k for (k, v) in chars2int.items()}"
   ]
  },
  {
   "cell_type": "code",
   "execution_count": 12,
   "id": "f7672a7e",
   "metadata": {},
   "outputs": [],
   "source": [
    "def encode_text(text, unique_chars = None, extend = False):\n",
    "    result_tuple = namedtuple('results', ['encoded_text', 'unique_char', 'int2char', 'char2int'])\n",
    "    \n",
    "    if unique_chars is None:\n",
    "        unique_chars = list(set(text))\n",
    "    else:\n",
    "        if extend:\n",
    "            unique_chars.extend(list('#[]{}+-*=!'))\n",
    "        \n",
    "    char2int = {char : unique_chars.index(char) for char in unique_chars}\n",
    "    int2char = {v : k for (k, v) in char2int.items()}\n",
    "    \n",
    "    encoded_text = np.array(list(map(lambda x: char2int[x], list(text))))\n",
    "    \n",
    "    return result_tuple(encoded_text, unique_chars, int2char, char2int)"
   ]
  },
  {
   "cell_type": "code",
   "execution_count": 13,
   "id": "255380ed",
   "metadata": {},
   "outputs": [],
   "source": [
    "train_frac = 0.8\n",
    "text, val_text = text[:int(len(text)*train_frac)], text[int(len(text)*(train_frac)):]"
   ]
  },
  {
   "cell_type": "code",
   "execution_count": 14,
   "id": "08b7225b",
   "metadata": {},
   "outputs": [],
   "source": [
    "encoded_text, unique_chars, int2char, char2int = encode_text(text, unique_chars)"
   ]
  },
  {
   "cell_type": "code",
   "execution_count": 15,
   "id": "11909de7",
   "metadata": {},
   "outputs": [],
   "source": [
    "def one_hot_convert(arr, n_labels):\n",
    "    nrows = arr.size\n",
    "    array = np.zeros(shape = [nrows, n_labels])\n",
    "    array[np.arange(array.shape[0]), arr.flatten()] = 1.\n",
    "    \n",
    "    return array"
   ]
  },
  {
   "cell_type": "code",
   "execution_count": 16,
   "id": "9c61328d",
   "metadata": {},
   "outputs": [
    {
     "data": {
      "text/plain": "array([[0., 1., 0., 0., 0., 0., 0., 0., 0., 0.],\n       [0., 0., 1., 0., 0., 0., 0., 0., 0., 0.],\n       [0., 0., 0., 1., 0., 0., 0., 0., 0., 0.],\n       [0., 0., 0., 0., 0., 1., 0., 0., 0., 0.]])"
     },
     "execution_count": 16,
     "metadata": {},
     "output_type": "execute_result"
    }
   ],
   "source": [
    "one_hot_convert(np.array([[1, 2, 3, 5]]), 10)"
   ]
  },
  {
   "cell_type": "code",
   "execution_count": 17,
   "id": "af0bdb53",
   "metadata": {},
   "outputs": [],
   "source": [
    "batch_size = 32\n",
    "seq_length = 16"
   ]
  },
  {
   "cell_type": "code",
   "execution_count": 18,
   "id": "1a96b27a",
   "metadata": {},
   "outputs": [],
   "source": [
    "numel_seq = batch_size * seq_length"
   ]
  },
  {
   "cell_type": "code",
   "execution_count": 19,
   "id": "4358a639",
   "metadata": {},
   "outputs": [
    {
     "data": {
      "text/plain": "512"
     },
     "execution_count": 19,
     "metadata": {},
     "output_type": "execute_result"
    }
   ],
   "source": [
    "numel_seq"
   ]
  },
  {
   "cell_type": "code",
   "execution_count": 20,
   "id": "bec42739",
   "metadata": {},
   "outputs": [
    {
     "data": {
      "text/plain": "3101.91015625"
     },
     "execution_count": 20,
     "metadata": {},
     "output_type": "execute_result"
    }
   ],
   "source": [
    "encoded_text.shape[0]/numel_seq"
   ]
  },
  {
   "cell_type": "code",
   "execution_count": 21,
   "id": "1d9da284",
   "metadata": {},
   "outputs": [],
   "source": [
    "def batch_sequence(arr, batch_size, seq_length):\n",
    "    numel_seq = batch_size * seq_length\n",
    "    num_batches = arr.size // numel_seq\n",
    "    \n",
    "    arr = arr[: num_batches * numel_seq].reshape(batch_size, -1)\n",
    "    #print(arr.shape)\n",
    "    \n",
    "    batched_data = [(arr[:, n : n + seq_length], arr[:, n + 1 : n + 1 + seq_length])\n",
    "                    for n in range(0, arr.shape[1], seq_length)]\n",
    "    \n",
    "    ### Finalize final array size\n",
    "    batched_data[-1] = (batched_data[-1][0],\n",
    "                        np.append(batched_data[-1][1], batched_data[0][1][:, 0].reshape(-1, 1), axis = 1))\n",
    "    \n",
    "    ###batched_arr = [arr[n : n + numel_seq].reshape(batch_size, seq_length) for n in range(num_batches)]\n",
    "    return iter(batched_data), num_batches"
   ]
  },
  {
   "cell_type": "code",
   "execution_count": 22,
   "id": "8128515f",
   "metadata": {},
   "outputs": [],
   "source": [
    "batch, _ = batch_sequence(encoded_text, 32, 16)"
   ]
  },
  {
   "cell_type": "code",
   "execution_count": 23,
   "id": "84e57c82",
   "metadata": {},
   "outputs": [],
   "source": [
    "X, y = next(batch)"
   ]
  },
  {
   "cell_type": "code",
   "execution_count": 24,
   "id": "735acbdc",
   "metadata": {},
   "outputs": [
    {
     "data": {
      "text/plain": "array([[11, 32, 53, 63, 26, 20, 16, 27, 81, 75, 75, 75, 57, 53, 63, 63],\n       [20, 27, 32, 53, 69, 27, 77, 68, 16, 72, 68, 26, 26, 20, 38, 27],\n       [26, 16, 53, 72, 20, 69, 24, 27, 13, 38, 75, 13, 26, 42, 31, 75],\n       [26, 27, 32, 20, 16, 27,  9, 13, 26, 32, 27, 80, 20, 43, 27, 53],\n       [20, 13, 16, 27, 32, 68, 62, 26, 75, 62, 80, 13, 50, 20, 69, 27],\n       [20, 26, 20, 16, 62, 22, 33, 16, 72, 43, 27, 53, 62, 27, 62, 68],\n       [62, 32, 20, 27,  9, 32, 13, 62, 63, 20, 16, 20, 69, 27, 63, 20],\n       [77, 16, 68, 80, 27, 32, 20, 16, 27, 26, 68, 38, 20, 27, 26, 32],\n       [77, 68, 16, 20, 42, 75, 75, 31, 57, 53, 23, 20, 27, 24, 68, 33],\n       [ 9, 53, 62, 27, 48, 68, 80, 63, 50, 20, 26, 20, 50, 24, 27, 53],\n       [20, 27, 51, 50, 20, 25, 20, 24, 27, 51, 50, 20, 25, 53, 38, 69],\n       [32, 53, 69, 27, 77, 20, 50, 26, 27, 53, 26, 27, 13, 26, 42, 27],\n       [63, 27, 26, 32, 20, 27, 50, 53, 62, 26, 27, 50, 13, 38, 20, 43],\n       [24, 27,  9, 32, 13, 48, 32, 27, 48, 32, 13, 50, 69, 16, 20, 38],\n       [26, 13, 23, 20, 27, 26, 16, 13, 22, 20, 62, 27, 77, 16, 68, 80],\n       [33, 72, 32, 26, 27, 26, 68, 27, 22, 20, 27, 63, 16, 20, 63, 53],\n       [48, 53, 38, 27, 72, 68, 43, 27, 53, 38, 69, 27,  9, 20, 27, 48],\n       [32, 20, 27, 62, 13, 72, 38, 13, 77, 13, 48, 53, 38, 48, 20, 27],\n       [50, 20, 25, 20, 24, 27, 51, 50, 20, 25, 53, 38, 69, 16, 68, 23],\n       [48, 53, 38, 38, 68, 26, 27, 17, 33, 13, 26, 20, 27, 53, 72, 16],\n       [68, 33, 50, 69, 27, 38, 68, 26, 27, 22, 20, 43, 27, 53, 38, 69],\n       [20, 27, 77, 68, 16, 27, 80, 24, 27, 62, 13, 62, 26, 20, 16, 27],\n       [20, 27, 63, 16, 13, 20, 62, 26, 27, 26, 33, 16, 38, 20, 69, 27],\n       [53, 16, 26, 13, 62, 26, 13, 48, 27, 62, 20, 38, 62, 20, 27,  9],\n       [32, 53, 26, 27, 13, 38, 62, 26, 53, 38, 26, 75, 53, 48, 16, 68],\n       [27, 26, 68, 27, 32, 13, 80, 43, 27, 13, 77, 27, 38, 68, 26, 27],\n       [53, 27, 62, 13, 38, 72, 50, 20, 27, 13, 38, 62, 26, 53, 38, 26],\n       [27, 63, 33, 26, 26, 13, 38, 72, 27, 32, 13, 62, 27, 32, 53, 26],\n       [65, 32, 20, 38, 27, 77, 68, 16, 27, 80, 20, 27, 26, 32, 20, 16],\n       [77, 68, 16, 75, 80, 24, 62, 20, 50, 77, 27, 38, 68,  9, 43, 31],\n       [13, 80, 20, 49, 27,  5, 68, 16, 27, 68, 38, 20, 27, 69, 53, 24],\n       [27, 53, 50, 68, 38, 20, 42, 42, 42, 42, 27, 34, 33, 26, 27,  9]])"
     },
     "execution_count": 24,
     "metadata": {},
     "output_type": "execute_result"
    }
   ],
   "source": [
    "X"
   ]
  },
  {
   "cell_type": "code",
   "execution_count": 25,
   "id": "8e97bf13",
   "metadata": {},
   "outputs": [
    {
     "data": {
      "text/plain": "array([[32, 53, 63, 26, 20, 16, 27, 81, 75, 75, 75, 57, 53, 63, 63, 24],\n       [27, 32, 53, 69, 27, 77, 68, 16, 72, 68, 26, 26, 20, 38, 27, 26],\n       [16, 53, 72, 20, 69, 24, 27, 13, 38, 75, 13, 26, 42, 31, 75, 75],\n       [27, 32, 20, 16, 27,  9, 13, 26, 32, 27, 80, 20, 43, 27, 53, 38],\n       [13, 16, 27, 32, 68, 62, 26, 75, 62, 80, 13, 50, 20, 69, 27, 53],\n       [26, 20, 16, 62, 22, 33, 16, 72, 43, 27, 53, 62, 27, 62, 68, 68],\n       [32, 20, 27,  9, 32, 13, 62, 63, 20, 16, 20, 69, 27, 63, 20, 38],\n       [16, 68, 80, 27, 32, 20, 16, 27, 26, 68, 38, 20, 27, 26, 32, 53],\n       [68, 16, 20, 42, 75, 75, 31, 57, 53, 23, 20, 27, 24, 68, 33, 27],\n       [53, 62, 27, 48, 68, 80, 63, 50, 20, 26, 20, 50, 24, 27, 53, 50],\n       [27, 51, 50, 20, 25, 20, 24, 27, 51, 50, 20, 25, 53, 38, 69, 16],\n       [53, 69, 27, 77, 20, 50, 26, 27, 53, 26, 27, 13, 26, 42, 27, 57],\n       [27, 26, 32, 20, 27, 50, 53, 62, 26, 27, 50, 13, 38, 20, 43, 27],\n       [27,  9, 32, 13, 48, 32, 27, 48, 32, 13, 50, 69, 16, 20, 38, 27],\n       [13, 23, 20, 27, 26, 16, 13, 22, 20, 62, 27, 77, 16, 68, 80, 27],\n       [72, 32, 26, 27, 26, 68, 27, 22, 20, 27, 63, 16, 20, 63, 53, 16],\n       [53, 38, 27, 72, 68, 43, 27, 53, 38, 69, 27,  9, 20, 27, 48, 53],\n       [20, 27, 62, 13, 72, 38, 13, 77, 13, 48, 53, 38, 48, 20, 27, 68],\n       [20, 25, 20, 24, 27, 51, 50, 20, 25, 53, 38, 69, 16, 68, 23, 13],\n       [53, 38, 38, 68, 26, 27, 17, 33, 13, 26, 20, 27, 53, 72, 16, 20],\n       [33, 50, 69, 27, 38, 68, 26, 27, 22, 20, 43, 27, 53, 38, 69, 27],\n       [27, 77, 68, 16, 27, 80, 24, 27, 62, 13, 62, 26, 20, 16, 27, 53],\n       [27, 63, 16, 13, 20, 62, 26, 27, 26, 33, 16, 38, 20, 69, 27, 26],\n       [16, 26, 13, 62, 26, 13, 48, 27, 62, 20, 38, 62, 20, 27,  9, 53],\n       [53, 26, 27, 13, 38, 62, 26, 53, 38, 26, 75, 53, 48, 16, 68, 62],\n       [26, 68, 27, 32, 13, 80, 43, 27, 13, 77, 27, 38, 68, 26, 27, 69],\n       [27, 62, 13, 38, 72, 50, 20, 27, 13, 38, 62, 26, 53, 38, 26, 43],\n       [63, 33, 26, 26, 13, 38, 72, 27, 32, 13, 62, 27, 32, 53, 26, 27],\n       [32, 20, 38, 27, 77, 68, 16, 27, 80, 20, 27, 26, 32, 20, 16, 20],\n       [68, 16, 75, 80, 24, 62, 20, 50, 77, 27, 38, 68,  9, 43, 31, 27],\n       [80, 20, 49, 27,  5, 68, 16, 27, 68, 38, 20, 27, 69, 53, 24, 27],\n       [53, 50, 68, 38, 20, 42, 42, 42, 42, 27, 34, 33, 26, 27,  9, 20]])"
     },
     "execution_count": 25,
     "metadata": {},
     "output_type": "execute_result"
    }
   ],
   "source": [
    "y"
   ]
  },
  {
   "cell_type": "code",
   "execution_count": 26,
   "id": "e269196d",
   "metadata": {},
   "outputs": [],
   "source": [
    "def one_hot_encode(arr, n_labels):\n",
    "    \n",
    "    # Initialize the the encoded array\n",
    "    one_hot = np.zeros((arr.size, n_labels), dtype=np.float32)\n",
    "    \n",
    "    # Fill the appropriate elements with ones\n",
    "    one_hot[np.arange(one_hot.shape[0]), arr.flatten()] = 1.\n",
    "    \n",
    "    # Finally reshape it to get back to the original array\n",
    "    one_hot = one_hot.reshape((*arr.shape, n_labels))\n",
    "    \n",
    "    return one_hot"
   ]
  },
  {
   "cell_type": "code",
   "execution_count": 27,
   "id": "50d73eaa",
   "metadata": {},
   "outputs": [
    {
     "data": {
      "text/plain": "83"
     },
     "execution_count": 27,
     "metadata": {},
     "output_type": "execute_result"
    }
   ],
   "source": [
    "len(unique_chars)"
   ]
  },
  {
   "cell_type": "code",
   "execution_count": 28,
   "id": "38bc68c2",
   "metadata": {},
   "outputs": [],
   "source": [
    "#X_ = one_hot_convert(X, 90)\n",
    "X_ = one_hot_encode(X, len(unique_chars))"
   ]
  },
  {
   "cell_type": "code",
   "execution_count": 29,
   "id": "8a157cb1",
   "metadata": {},
   "outputs": [
    {
     "data": {
      "text/plain": "(32, 16)"
     },
     "execution_count": 29,
     "metadata": {},
     "output_type": "execute_result"
    }
   ],
   "source": [
    "X.shape"
   ]
  },
  {
   "cell_type": "code",
   "execution_count": 30,
   "id": "59a5fbcf",
   "metadata": {},
   "outputs": [
    {
     "data": {
      "text/plain": "(32, 16, 83)"
     },
     "execution_count": 30,
     "metadata": {},
     "output_type": "execute_result"
    }
   ],
   "source": [
    "X_.shape"
   ]
  },
  {
   "cell_type": "markdown",
   "id": "994adf7b",
   "metadata": {},
   "source": [
    "\\begin{array}{ll} \\\\\n",
    "        i_t = \\sigma(W_{ii} x_t + b_{ii} + W_{hi} h_{t-1} + b_{hi}) \\\\\n",
    "        f_t = \\sigma(W_{if} x_t + b_{if} + W_{hf} h_{t-1} + b_{hf}) \\\\\n",
    "        g_t = \\tanh(W_{ig} x_t + b_{ig} + W_{hg} h_{t-1} + b_{hg}) \\\\\n",
    "        o_t = \\sigma(W_{io} x_t + b_{io} + W_{ho} h_{t-1} + b_{ho}) \\\\\n",
    "        c_t = f_t \\odot c_{t-1} + i_t \\odot g_t \\\\\n",
    "        h_t = o_t \\odot \\tanh(c_t) \\\\\n",
    "    \\end{array}"
   ]
  },
  {
   "cell_type": "code",
   "execution_count": 32,
   "id": "958d85dc",
   "metadata": {},
   "outputs": [],
   "source": [
    "def get_text(fpath, start_page = 1):\n",
    "    with open(fpath, \"rb\") as f:\n",
    "        pdf = PyPDF3.PdfFileReader(f)\n",
    "        text = str()\n",
    "        for page_num in range(start_page-1, pdf.numPages):\n",
    "            page = pdf.getPage(page_num)\n",
    "            text = text + ' ' + page.extractText()\n",
    "    return text.lower()"
   ]
  },
  {
   "cell_type": "code",
   "execution_count": 33,
   "id": "1c34aad4",
   "metadata": {},
   "outputs": [
    {
     "data": {
      "text/plain": "1588178"
     },
     "execution_count": 33,
     "metadata": {},
     "output_type": "execute_result"
    }
   ],
   "source": [
    "len(text)"
   ]
  },
  {
   "cell_type": "code",
   "execution_count": 34,
   "id": "a196efee",
   "metadata": {},
   "outputs": [
    {
     "data": {
      "text/plain": "397045"
     },
     "execution_count": 34,
     "metadata": {},
     "output_type": "execute_result"
    }
   ],
   "source": [
    "len(val_text)"
   ]
  },
  {
   "cell_type": "code",
   "execution_count": 35,
   "id": "0175c9e9",
   "metadata": {},
   "outputs": [
    {
     "name": "stdout",
     "output_type": "stream",
     "text": [
      "at it may be, but still it ought to be treated a little more\n",
      "respectfully. Snetkov, now.... We may be of use, or we may not, but\n",
      "we're the growth of a thousand years. If we're laying out a garden,\n",
      "planning one before the house, you know, and there you've a tree that's\n",
      "stood for centuries in the very spot.... Old and gnarled it may be, and\n",
      "yet you don't cut down the old fellow to make room for the flowerbeds,\n",
      "but lay out your beds so as to take advantage of the tree. You won't\n",
      "grow him again in a year,\" he said cautiously, and he immediately\n",
      "changed the conversation. \"Well, and how is your land doing?\"\n",
      "\n",
      "\"Oh, not very well. I make five per cent.\"\n",
      "\n",
      "\"Yes, but you don't reckon your own work. Aren't you worth something\n",
      "too? I'll tell you my own case. Before I took to seeing after the land,\n",
      "I had a salary of three hundred pounds from the service. Now I do more\n",
      "work than I did in the service, and like you I get five per cent. on the\n",
      "land, and thank God for that. But one's work is thrown in for\n"
     ]
    }
   ],
   "source": [
    "print(val_text[:1000])"
   ]
  },
  {
   "cell_type": "code",
   "execution_count": 36,
   "id": "6a13fa73",
   "metadata": {},
   "outputs": [],
   "source": [
    "### Encode validation data\n",
    "encoding_results = encode_text(val_text, unique_chars)\n",
    "encoded_val = encoding_results.encoded_text"
   ]
  },
  {
   "cell_type": "code",
   "execution_count": 37,
   "id": "aa2cc040",
   "metadata": {},
   "outputs": [
    {
     "data": {
      "text/plain": "83"
     },
     "execution_count": 37,
     "metadata": {},
     "output_type": "execute_result"
    }
   ],
   "source": [
    "unique_char = encoding_results.unique_char\n",
    "len(unique_char)"
   ]
  },
  {
   "cell_type": "markdown",
   "id": "7a6efab6",
   "metadata": {},
   "source": [
    "\\begin{aligned}\n",
    " |              N ={} & \\text{batch size} \\\\\n",
    " |              L ={} & \\text{sequence length} \\\\\n",
    " |              D ={} & 2 \\text{ if bidirectional=True otherwise } 1 \\\\\n",
    " |              H_{in} ={} & \\text{input\\_size} \\\\\n",
    " |              H_{cell} ={} & \\text{hidden\\_size} \\\\\n",
    " |              H_{out} ={} & \\text{proj\\_size if } \\text{proj\\_size}>0 \\text{ otherwise hidden\\_size} \\\\\n",
    " |          \\end{aligned}"
   ]
  },
  {
   "cell_type": "code",
   "execution_count": 38,
   "id": "5c2b11fc",
   "metadata": {},
   "outputs": [],
   "source": [
    "class CharRNN(nn.Module):\n",
    "    \"\"\"\n",
    "    Character-level LSTM.\n",
    "    \n",
    "    Parameters\n",
    "    ----------\n",
    "    input_size:\n",
    "        Input (feature sze) for RNN.\n",
    "    output_size:\n",
    "        Input (feature sze) for RNN.\n",
    "    hidden_size:\n",
    "        Number of output features for RNN.\n",
    "    dropout_rate:\n",
    "        Dropout probability for RNN.\n",
    "    batch_size:\n",
    "        Number of sequences in a batch.\n",
    "    D:\n",
    "        Number of directions: uni- or bidirectional architecture for RNN.\n",
    "    num_layers:\n",
    "        Number of RNN stacks.\n",
    "    batch_size:\n",
    "        Number of sequences in a batch.\n",
    "    \n",
    "    Returns\n",
    "    -------\n",
    "    output:\n",
    "        Shape: [batch_size, sequence_length, num_features]\n",
    "    hidden_state:\n",
    "        Tuple containing:\n",
    "        - Short-term hidden state\n",
    "            Shape: [batch_size, sequence_length, num_features]\n",
    "        - Cell state\n",
    "            Shape: [batch_size, sequence_length, num_features]\n",
    "    \n",
    "    \"\"\"\n",
    "    def __init__(self, input_size = 32, hidden_size = 128, dropout = 0.25,\n",
    "                 batch_size = 32, D = 1, num_layers = 2, output_size = 32, base_rnn = nn.LSTM):\n",
    "        \n",
    "        super(CharRNN, self).__init__()\n",
    "        \n",
    "        self.base_rnn = base_rnn\n",
    "        self.input_size = input_size\n",
    "        self.output_size = output_size\n",
    "        self.hidden_size = hidden_size\n",
    "        self.dropout_rate = dropout\n",
    "        self.num_layers = num_layers\n",
    "        self.batch_size = batch_size\n",
    "        self.D = D\n",
    "        \n",
    "        self.rnn = self.base_rnn(input_size = self.input_size, hidden_size = self.hidden_size,\n",
    "                                dropout = self.dropout_rate, batch_first = True,\n",
    "                                bidirectional = True if self.D == 2 else False, bias = True,\n",
    "                                num_layers = self.num_layers)\n",
    "        \n",
    "        self.dropout = nn.Dropout(p = self.dropout_rate)\n",
    "        self.fc = nn.Linear(self.D*self.hidden_size, self.output_size)\n",
    "        \n",
    "    def forward(self, x, hidden_state):\n",
    "        outputs, hidden_state = self.rnn(x, hidden_state)\n",
    "        outputs = self.dropout(outputs)\n",
    "        outputs = outputs.contiguous().view(-1, self.D*self.hidden_size)\n",
    "        outputs = self.fc(outputs)\n",
    "        \n",
    "        return outputs, hidden_state\n",
    "    \n",
    "    def init_hidden_state(self, mean = 0, stddev = 0):\n",
    "        \"\"\"\n",
    "        Initialize hidden state and context tensors.\n",
    "        \"\"\"\n",
    "        h = torch.distributions.Normal(mean, stddev).sample((self.D*self.num_layers, self.batch_size, self.hidden_size))\n",
    "        h = h.to(device)\n",
    "        \n",
    "        if self.base_rnn == nn.LSTM:\n",
    "            c = torch.distributions.Normal(mean, stddev).sample((self.D*self.num_layers, self.batch_size, self.hidden_size))\n",
    "            c = c.to(device)\n",
    "            h = (h, c)\n",
    "        \n",
    "        return h"
   ]
  },
  {
   "cell_type": "code",
   "execution_count": 39,
   "id": "6fd1e3e6",
   "metadata": {},
   "outputs": [],
   "source": [
    "batch_size = 128\n",
    "seq_length = 100\n",
    "num_layers = 2\n",
    "hidden_size = 512\n",
    "\n",
    "max_norm = 15\n",
    "epochs = 30\n",
    "lr = 1e-3"
   ]
  },
  {
   "cell_type": "code",
   "execution_count": 40,
   "id": "fc5a71f7",
   "metadata": {},
   "outputs": [],
   "source": [
    "model = CharRNN(D = 1, dropout = 0.5, num_layers = num_layers, base_rnn = nn.LSTM,\n",
    "                batch_size = batch_size, hidden_size = hidden_size,\n",
    "                input_size = len(unique_char), output_size = len(unique_char)).to(device)"
   ]
  },
  {
   "cell_type": "code",
   "execution_count": 41,
   "id": "96b1a851",
   "metadata": {},
   "outputs": [
    {
     "name": "stdout",
     "output_type": "stream",
     "text": [
      "CharRNN(\n",
      "  (rnn): LSTM(83, 512, num_layers=2, batch_first=True, dropout=0.5)\n",
      "  (dropout): Dropout(p=0.5, inplace=False)\n",
      "  (fc): Linear(in_features=512, out_features=83, bias=True)\n",
      ")\n"
     ]
    }
   ],
   "source": [
    "print(model)"
   ]
  },
  {
   "cell_type": "code",
   "execution_count": 42,
   "id": "ae52851d",
   "metadata": {},
   "outputs": [],
   "source": [
    "### Objective functions and optimizer\n",
    "opt = optim.Adam(model.parameters(), lr = lr)\n",
    "criterion = nn.CrossEntropyLoss()"
   ]
  },
  {
   "cell_type": "code",
   "execution_count": 43,
   "id": "f7b8bcaa",
   "metadata": {},
   "outputs": [
    {
     "data": {
      "text/plain": "11"
     },
     "execution_count": 43,
     "metadata": {},
     "output_type": "execute_result"
    }
   ],
   "source": [
    "gc.collect()"
   ]
  },
  {
   "cell_type": "code",
   "execution_count": 44,
   "id": "80111487",
   "metadata": {},
   "outputs": [],
   "source": [
    "### Train data\n",
    "_, num_batches = batch_sequence(encoded_text, batch_size, seq_length)"
   ]
  },
  {
   "cell_type": "code",
   "execution_count": 45,
   "id": "aa9b3f11",
   "metadata": {},
   "outputs": [],
   "source": [
    "### Validation data\n",
    "_, num_batches_ = batch_sequence(encoded_val, batch_size, seq_length)"
   ]
  },
  {
   "cell_type": "code",
   "execution_count": 46,
   "id": "4441ab07",
   "metadata": {},
   "outputs": [
    {
     "name": "stdout",
     "output_type": "stream",
     "text": [
      "124\n"
     ]
    }
   ],
   "source": [
    "### Num of train batches\n",
    "print(num_batches)"
   ]
  },
  {
   "cell_type": "code",
   "execution_count": 47,
   "id": "7672d843",
   "metadata": {},
   "outputs": [
    {
     "name": "stdout",
     "output_type": "stream",
     "text": [
      "31\n"
     ]
    }
   ],
   "source": [
    "### Num of valid batches\n",
    "print(num_batches_)"
   ]
  },
  {
   "cell_type": "code",
   "execution_count": 48,
   "id": "bab990cc",
   "metadata": {
    "scrolled": true
   },
   "outputs": [
    {
     "name": "stdout",
     "output_type": "stream",
     "text": [
      "================================================================================\n",
      "\n",
      "Epoch: 1/30, Iteration 20/124, Train Loss: 3.4649, Valid Loss: 3.1449\n",
      "================================================================================\n",
      "\n",
      "Epoch: 1/30, Iteration 40/124, Train Loss: 3.3007, Valid Loss: 3.1197\n",
      "================================================================================\n",
      "\n",
      "Epoch: 1/30, Iteration 60/124, Train Loss: 3.2410, Valid Loss: 3.1160\n",
      "================================================================================\n",
      "\n",
      "Epoch: 1/30, Iteration 80/124, Train Loss: 3.2080, Valid Loss: 3.1069\n",
      "================================================================================\n",
      "\n",
      "Epoch: 1/30, Iteration 100/124, Train Loss: 3.1827, Valid Loss: 3.0580\n",
      "================================================================================\n",
      "\n",
      "Epoch: 1/30, Iteration 120/124, Train Loss: 3.1528, Valid Loss: 2.9436\n",
      "================================================================================\n",
      "\n",
      "Epoch: 1/30, Iteration 124/124, Train Loss: 3.1455, Valid Loss: 2.8810\n",
      "\n",
      "================================================================================\n",
      "================================================================================\n",
      "================================================================================\n",
      "================================================================================\n",
      "\n",
      "Epoch: 2/30, Iteration 20/124, Train Loss: 2.7732, Valid Loss: 2.6440\n",
      "================================================================================\n",
      "\n",
      "Epoch: 2/30, Iteration 40/124, Train Loss: 2.6803, Valid Loss: 2.5102\n",
      "================================================================================\n",
      "\n",
      "Epoch: 2/30, Iteration 60/124, Train Loss: 2.6151, Valid Loss: 2.4262\n",
      "================================================================================\n",
      "\n",
      "Epoch: 2/30, Iteration 80/124, Train Loss: 2.5644, Valid Loss: 2.3751\n",
      "================================================================================\n",
      "\n",
      "Epoch: 2/30, Iteration 100/124, Train Loss: 2.5243, Valid Loss: 2.3083\n",
      "================================================================================\n",
      "\n",
      "Epoch: 2/30, Iteration 120/124, Train Loss: 2.4874, Valid Loss: 2.2467\n",
      "================================================================================\n",
      "\n",
      "Epoch: 2/30, Iteration 124/124, Train Loss: 2.4802, Valid Loss: 2.2346\n",
      "\n",
      "================================================================================\n",
      "================================================================================\n",
      "================================================================================\n",
      "================================================================================\n",
      "\n",
      "Epoch: 3/30, Iteration 20/124, Train Loss: 2.2444, Valid Loss: 2.2002\n",
      "================================================================================\n",
      "\n",
      "Epoch: 3/30, Iteration 40/124, Train Loss: 2.2162, Valid Loss: 2.1383\n",
      "================================================================================\n",
      "\n",
      "Epoch: 3/30, Iteration 60/124, Train Loss: 2.1921, Valid Loss: 2.0917\n",
      "================================================================================\n",
      "\n",
      "Epoch: 3/30, Iteration 80/124, Train Loss: 2.1692, Valid Loss: 2.0543\n",
      "================================================================================\n",
      "\n",
      "Epoch: 3/30, Iteration 100/124, Train Loss: 2.1506, Valid Loss: 2.0131\n",
      "================================================================================\n",
      "\n",
      "Epoch: 3/30, Iteration 120/124, Train Loss: 2.1310, Valid Loss: 1.9741\n",
      "================================================================================\n",
      "\n",
      "Epoch: 3/30, Iteration 124/124, Train Loss: 2.1267, Valid Loss: 1.9656\n",
      "\n",
      "================================================================================\n",
      "================================================================================\n",
      "================================================================================\n",
      "================================================================================\n",
      "\n",
      "Epoch: 4/30, Iteration 20/124, Train Loss: 1.9948, Valid Loss: 1.9379\n",
      "================================================================================\n",
      "\n",
      "Epoch: 4/30, Iteration 40/124, Train Loss: 1.9737, Valid Loss: 1.9033\n",
      "================================================================================\n",
      "\n",
      "Epoch: 4/30, Iteration 60/124, Train Loss: 1.9587, Valid Loss: 1.8765\n",
      "================================================================================\n",
      "\n",
      "Epoch: 4/30, Iteration 80/124, Train Loss: 1.9447, Valid Loss: 1.8441\n",
      "================================================================================\n",
      "\n",
      "Epoch: 4/30, Iteration 100/124, Train Loss: 1.9322, Valid Loss: 1.8207\n",
      "================================================================================\n",
      "\n",
      "Epoch: 4/30, Iteration 120/124, Train Loss: 1.9185, Valid Loss: 1.7996\n",
      "================================================================================\n",
      "\n",
      "Epoch: 4/30, Iteration 124/124, Train Loss: 1.9153, Valid Loss: 1.7996\n",
      "\n",
      "================================================================================\n",
      "================================================================================\n",
      "================================================================================\n",
      "================================================================================\n",
      "\n",
      "Epoch: 5/30, Iteration 20/124, Train Loss: 1.8312, Valid Loss: 1.7665\n",
      "================================================================================\n",
      "\n",
      "Epoch: 5/30, Iteration 40/124, Train Loss: 1.8111, Valid Loss: 1.7451\n",
      "================================================================================\n",
      "\n",
      "Epoch: 5/30, Iteration 60/124, Train Loss: 1.8008, Valid Loss: 1.7243\n",
      "================================================================================\n",
      "\n",
      "Epoch: 5/30, Iteration 80/124, Train Loss: 1.7916, Valid Loss: 1.7049\n",
      "================================================================================\n",
      "\n",
      "Epoch: 5/30, Iteration 100/124, Train Loss: 1.7838, Valid Loss: 1.6927\n",
      "================================================================================\n",
      "\n",
      "Epoch: 5/30, Iteration 120/124, Train Loss: 1.7744, Valid Loss: 1.6759\n",
      "================================================================================\n",
      "\n",
      "Epoch: 5/30, Iteration 124/124, Train Loss: 1.7721, Valid Loss: 1.6735\n",
      "\n",
      "================================================================================\n",
      "================================================================================\n",
      "================================================================================\n",
      "================================================================================\n",
      "\n",
      "Epoch: 6/30, Iteration 20/124, Train Loss: 1.7131, Valid Loss: 1.6517\n",
      "================================================================================\n",
      "\n",
      "Epoch: 6/30, Iteration 40/124, Train Loss: 1.6977, Valid Loss: 1.6400\n",
      "================================================================================\n",
      "\n",
      "Epoch: 6/30, Iteration 60/124, Train Loss: 1.6910, Valid Loss: 1.6270\n",
      "================================================================================\n",
      "\n",
      "Epoch: 6/30, Iteration 80/124, Train Loss: 1.6855, Valid Loss: 1.6139\n",
      "================================================================================\n",
      "\n",
      "Epoch: 6/30, Iteration 100/124, Train Loss: 1.6804, Valid Loss: 1.6052\n",
      "================================================================================\n",
      "\n",
      "Epoch: 6/30, Iteration 120/124, Train Loss: 1.6734, Valid Loss: 1.5914\n",
      "================================================================================\n",
      "\n",
      "Epoch: 6/30, Iteration 124/124, Train Loss: 1.6716, Valid Loss: 1.5879\n",
      "\n",
      "================================================================================\n",
      "================================================================================\n",
      "================================================================================\n",
      "================================================================================\n",
      "\n",
      "Epoch: 7/30, Iteration 20/124, Train Loss: 1.6291, Valid Loss: 1.5758\n",
      "================================================================================\n",
      "\n",
      "Epoch: 7/30, Iteration 40/124, Train Loss: 1.6151, Valid Loss: 1.5648\n",
      "================================================================================\n",
      "\n",
      "Epoch: 7/30, Iteration 60/124, Train Loss: 1.6112, Valid Loss: 1.5571\n",
      "================================================================================\n",
      "\n",
      "Epoch: 7/30, Iteration 80/124, Train Loss: 1.6075, Valid Loss: 1.5442\n",
      "================================================================================\n",
      "\n",
      "Epoch: 7/30, Iteration 100/124, Train Loss: 1.6043, Valid Loss: 1.5398\n",
      "================================================================================\n",
      "\n",
      "Epoch: 7/30, Iteration 120/124, Train Loss: 1.5984, Valid Loss: 1.5276\n",
      "================================================================================\n",
      "\n",
      "Epoch: 7/30, Iteration 124/124, Train Loss: 1.5968, Valid Loss: 1.5237\n",
      "\n",
      "================================================================================\n",
      "================================================================================\n",
      "================================================================================\n",
      "================================================================================\n",
      "\n",
      "Epoch: 8/30, Iteration 20/124, Train Loss: 1.5645, Valid Loss: 1.5154\n",
      "================================================================================\n",
      "\n",
      "Epoch: 8/30, Iteration 40/124, Train Loss: 1.5513, Valid Loss: 1.5111\n",
      "================================================================================\n",
      "\n",
      "Epoch: 8/30, Iteration 60/124, Train Loss: 1.5485, Valid Loss: 1.5019\n",
      "================================================================================\n",
      "\n",
      "Epoch: 8/30, Iteration 80/124, Train Loss: 1.5463, Valid Loss: 1.4955\n",
      "================================================================================\n",
      "\n",
      "Epoch: 8/30, Iteration 100/124, Train Loss: 1.5442, Valid Loss: 1.4910\n",
      "================================================================================\n",
      "\n",
      "Epoch: 8/30, Iteration 120/124, Train Loss: 1.5395, Valid Loss: 1.4773\n",
      "================================================================================\n",
      "\n",
      "Epoch: 8/30, Iteration 124/124, Train Loss: 1.5382, Valid Loss: 1.4790\n",
      "\n",
      "================================================================================\n",
      "================================================================================\n",
      "================================================================================\n",
      "================================================================================\n",
      "\n",
      "Epoch: 9/30, Iteration 20/124, Train Loss: 1.5144, Valid Loss: 1.4702\n",
      "================================================================================\n",
      "\n",
      "Epoch: 9/30, Iteration 40/124, Train Loss: 1.5017, Valid Loss: 1.4658\n",
      "================================================================================\n",
      "\n",
      "Epoch: 9/30, Iteration 60/124, Train Loss: 1.4999, Valid Loss: 1.4584\n",
      "================================================================================\n",
      "\n",
      "Epoch: 9/30, Iteration 80/124, Train Loss: 1.4982, Valid Loss: 1.4530\n",
      "================================================================================\n",
      "\n",
      "Epoch: 9/30, Iteration 100/124, Train Loss: 1.4965, Valid Loss: 1.4509\n",
      "================================================================================\n",
      "\n",
      "Epoch: 9/30, Iteration 120/124, Train Loss: 1.4923, Valid Loss: 1.4405\n",
      "================================================================================\n",
      "\n",
      "Epoch: 9/30, Iteration 124/124, Train Loss: 1.4912, Valid Loss: 1.4418\n",
      "\n",
      "================================================================================\n",
      "================================================================================\n",
      "================================================================================\n",
      "================================================================================\n",
      "\n",
      "Epoch: 10/30, Iteration 20/124, Train Loss: 1.4696, Valid Loss: 1.4350\n",
      "================================================================================\n",
      "\n",
      "Epoch: 10/30, Iteration 40/124, Train Loss: 1.4596, Valid Loss: 1.4303\n",
      "================================================================================\n",
      "\n",
      "Epoch: 10/30, Iteration 60/124, Train Loss: 1.4585, Valid Loss: 1.4234\n",
      "================================================================================\n",
      "\n",
      "Epoch: 10/30, Iteration 80/124, Train Loss: 1.4580, Valid Loss: 1.4204\n",
      "================================================================================\n",
      "\n",
      "Epoch: 10/30, Iteration 100/124, Train Loss: 1.4571, Valid Loss: 1.4133\n",
      "================================================================================\n",
      "\n",
      "Epoch: 10/30, Iteration 120/124, Train Loss: 1.4534, Valid Loss: 1.4088\n",
      "================================================================================\n",
      "\n",
      "Epoch: 10/30, Iteration 124/124, Train Loss: 1.4523, Valid Loss: 1.4096\n",
      "\n",
      "================================================================================\n",
      "================================================================================\n",
      "================================================================================\n",
      "================================================================================\n",
      "\n",
      "Epoch: 11/30, Iteration 20/124, Train Loss: 1.4352, Valid Loss: 1.4028\n",
      "================================================================================\n",
      "\n",
      "Epoch: 11/30, Iteration 40/124, Train Loss: 1.4246, Valid Loss: 1.3984\n",
      "================================================================================\n",
      "\n",
      "Epoch: 11/30, Iteration 60/124, Train Loss: 1.4238, Valid Loss: 1.3956\n",
      "================================================================================\n",
      "\n",
      "Epoch: 11/30, Iteration 80/124, Train Loss: 1.4237, Valid Loss: 1.3932\n",
      "================================================================================\n",
      "\n",
      "Epoch: 11/30, Iteration 100/124, Train Loss: 1.4227, Valid Loss: 1.3894\n",
      "================================================================================\n",
      "\n",
      "Epoch: 11/30, Iteration 120/124, Train Loss: 1.4195, Valid Loss: 1.3842\n",
      "================================================================================\n",
      "\n",
      "Epoch: 11/30, Iteration 124/124, Train Loss: 1.4186, Valid Loss: 1.3825\n",
      "\n",
      "================================================================================\n",
      "================================================================================\n",
      "================================================================================\n",
      "================================================================================\n",
      "\n",
      "Epoch: 12/30, Iteration 20/124, Train Loss: 1.4041, Valid Loss: 1.3769\n",
      "================================================================================\n",
      "\n",
      "Epoch: 12/30, Iteration 40/124, Train Loss: 1.3944, Valid Loss: 1.3764\n",
      "================================================================================\n",
      "\n",
      "Epoch: 12/30, Iteration 60/124, Train Loss: 1.3940, Valid Loss: 1.3744\n",
      "================================================================================\n",
      "\n",
      "Epoch: 12/30, Iteration 80/124, Train Loss: 1.3948, Valid Loss: 1.3703\n",
      "================================================================================\n",
      "\n",
      "Epoch: 12/30, Iteration 100/124, Train Loss: 1.3943, Valid Loss: 1.3665\n",
      "================================================================================\n",
      "\n",
      "Epoch: 12/30, Iteration 120/124, Train Loss: 1.3915, Valid Loss: 1.3638\n",
      "================================================================================\n",
      "\n",
      "Epoch: 12/30, Iteration 124/124, Train Loss: 1.3907, Valid Loss: 1.3626\n",
      "\n",
      "================================================================================\n",
      "================================================================================\n",
      "================================================================================\n",
      "================================================================================\n",
      "\n",
      "Epoch: 13/30, Iteration 20/124, Train Loss: 1.3789, Valid Loss: 1.3569\n",
      "================================================================================\n",
      "\n",
      "Epoch: 13/30, Iteration 40/124, Train Loss: 1.3696, Valid Loss: 1.3563\n",
      "================================================================================\n",
      "\n",
      "Epoch: 13/30, Iteration 60/124, Train Loss: 1.3692, Valid Loss: 1.3538\n",
      "================================================================================\n",
      "\n",
      "Epoch: 13/30, Iteration 80/124, Train Loss: 1.3701, Valid Loss: 1.3488\n",
      "================================================================================\n",
      "\n",
      "Epoch: 13/30, Iteration 100/124, Train Loss: 1.3701, Valid Loss: 1.3474\n",
      "================================================================================\n",
      "\n",
      "Epoch: 13/30, Iteration 120/124, Train Loss: 1.3677, Valid Loss: 1.3449\n",
      "================================================================================\n",
      "\n",
      "Epoch: 13/30, Iteration 124/124, Train Loss: 1.3669, Valid Loss: 1.3451\n",
      "\n",
      "================================================================================\n",
      "================================================================================\n",
      "================================================================================\n",
      "================================================================================\n",
      "\n",
      "Epoch: 14/30, Iteration 20/124, Train Loss: 1.3561, Valid Loss: 1.3395\n",
      "================================================================================\n",
      "\n",
      "Epoch: 14/30, Iteration 40/124, Train Loss: 1.3456, Valid Loss: 1.3379\n",
      "================================================================================\n",
      "\n",
      "Epoch: 14/30, Iteration 60/124, Train Loss: 1.3458, Valid Loss: 1.3404\n",
      "================================================================================\n",
      "\n",
      "Epoch: 14/30, Iteration 80/124, Train Loss: 1.3471, Valid Loss: 1.3355\n",
      "================================================================================\n",
      "\n",
      "Epoch: 14/30, Iteration 100/124, Train Loss: 1.3474, Valid Loss: 1.3320\n",
      "================================================================================\n",
      "\n",
      "Epoch: 14/30, Iteration 120/124, Train Loss: 1.3453, Valid Loss: 1.3303\n",
      "================================================================================\n",
      "\n",
      "Epoch: 14/30, Iteration 124/124, Train Loss: 1.3446, Valid Loss: 1.3326\n",
      "\n",
      "================================================================================\n",
      "================================================================================\n",
      "================================================================================\n",
      "================================================================================\n",
      "\n",
      "Epoch: 15/30, Iteration 20/124, Train Loss: 1.3363, Valid Loss: 1.3246\n",
      "================================================================================\n",
      "\n",
      "Epoch: 15/30, Iteration 40/124, Train Loss: 1.3272, Valid Loss: 1.3260\n",
      "================================================================================\n",
      "\n",
      "Epoch: 15/30, Iteration 60/124, Train Loss: 1.3273, Valid Loss: 1.3230\n",
      "================================================================================\n",
      "\n",
      "Epoch: 15/30, Iteration 80/124, Train Loss: 1.3282, Valid Loss: 1.3194\n",
      "================================================================================\n",
      "\n",
      "Epoch: 15/30, Iteration 100/124, Train Loss: 1.3285, Valid Loss: 1.3174\n",
      "================================================================================\n",
      "\n",
      "Epoch: 15/30, Iteration 120/124, Train Loss: 1.3265, Valid Loss: 1.3178\n",
      "================================================================================\n",
      "\n",
      "Epoch: 15/30, Iteration 124/124, Train Loss: 1.3258, Valid Loss: 1.3187\n",
      "\n",
      "================================================================================\n",
      "================================================================================\n",
      "================================================================================\n",
      "================================================================================\n",
      "\n",
      "Epoch: 16/30, Iteration 20/124, Train Loss: 1.3180, Valid Loss: 1.3130\n",
      "================================================================================\n",
      "\n",
      "Epoch: 16/30, Iteration 40/124, Train Loss: 1.3096, Valid Loss: 1.3144\n",
      "================================================================================\n",
      "\n",
      "Epoch: 16/30, Iteration 60/124, Train Loss: 1.3101, Valid Loss: 1.3118\n",
      "================================================================================\n",
      "\n",
      "Epoch: 16/30, Iteration 80/124, Train Loss: 1.3113, Valid Loss: 1.3084\n",
      "================================================================================\n",
      "\n",
      "Epoch: 16/30, Iteration 100/124, Train Loss: 1.3115, Valid Loss: 1.3056\n",
      "================================================================================\n",
      "\n",
      "Epoch: 16/30, Iteration 120/124, Train Loss: 1.3095, Valid Loss: 1.3028\n",
      "================================================================================\n",
      "\n",
      "Epoch: 16/30, Iteration 124/124, Train Loss: 1.3088, Valid Loss: 1.3074\n",
      "\n",
      "================================================================================\n",
      "================================================================================\n",
      "================================================================================\n",
      "================================================================================\n",
      "\n",
      "Epoch: 17/30, Iteration 20/124, Train Loss: 1.3021, Valid Loss: 1.3024\n",
      "================================================================================\n",
      "\n",
      "Epoch: 17/30, Iteration 40/124, Train Loss: 1.2930, Valid Loss: 1.3028\n",
      "================================================================================\n",
      "\n",
      "Epoch: 17/30, Iteration 60/124, Train Loss: 1.2936, Valid Loss: 1.3015\n",
      "================================================================================\n",
      "\n",
      "Epoch: 17/30, Iteration 80/124, Train Loss: 1.2949, Valid Loss: 1.2997\n",
      "================================================================================\n",
      "\n",
      "Epoch: 17/30, Iteration 100/124, Train Loss: 1.2951, Valid Loss: 1.2961\n",
      "================================================================================\n",
      "\n",
      "Epoch: 17/30, Iteration 120/124, Train Loss: 1.2931, Valid Loss: 1.2933\n",
      "================================================================================\n",
      "\n",
      "Epoch: 17/30, Iteration 124/124, Train Loss: 1.2925, Valid Loss: 1.2945\n",
      "\n",
      "================================================================================\n",
      "================================================================================\n",
      "================================================================================\n",
      "================================================================================\n",
      "\n",
      "Epoch: 18/30, Iteration 20/124, Train Loss: 1.2879, Valid Loss: 1.2923\n",
      "================================================================================\n",
      "\n",
      "Epoch: 18/30, Iteration 40/124, Train Loss: 1.2785, Valid Loss: 1.2908\n",
      "================================================================================\n",
      "\n",
      "Epoch: 18/30, Iteration 60/124, Train Loss: 1.2793, Valid Loss: 1.2924\n",
      "================================================================================\n",
      "\n",
      "Epoch: 18/30, Iteration 80/124, Train Loss: 1.2806, Valid Loss: 1.2934\n",
      "================================================================================\n",
      "\n",
      "Epoch: 18/30, Iteration 100/124, Train Loss: 1.2808, Valid Loss: 1.2851\n",
      "================================================================================\n",
      "\n",
      "Epoch: 18/30, Iteration 120/124, Train Loss: 1.2790, Valid Loss: 1.2873\n",
      "================================================================================\n",
      "\n",
      "Epoch: 18/30, Iteration 124/124, Train Loss: 1.2784, Valid Loss: 1.2871\n",
      "\n",
      "================================================================================\n",
      "================================================================================\n",
      "================================================================================\n",
      "================================================================================\n",
      "\n",
      "Epoch: 19/30, Iteration 20/124, Train Loss: 1.2748, Valid Loss: 1.2821\n",
      "================================================================================\n",
      "\n",
      "Epoch: 19/30, Iteration 40/124, Train Loss: 1.2648, Valid Loss: 1.2850\n",
      "================================================================================\n",
      "\n",
      "Epoch: 19/30, Iteration 60/124, Train Loss: 1.2653, Valid Loss: 1.2817\n",
      "================================================================================\n",
      "\n",
      "Epoch: 19/30, Iteration 80/124, Train Loss: 1.2670, Valid Loss: 1.2812\n",
      "================================================================================\n",
      "\n",
      "Epoch: 19/30, Iteration 100/124, Train Loss: 1.2673, Valid Loss: 1.2797\n",
      "================================================================================\n",
      "\n",
      "Epoch: 19/30, Iteration 120/124, Train Loss: 1.2656, Valid Loss: 1.2788\n",
      "================================================================================\n",
      "\n",
      "Epoch: 19/30, Iteration 124/124, Train Loss: 1.2650, Valid Loss: 1.2812\n",
      "\n",
      "================================================================================\n",
      "================================================================================\n",
      "================================================================================\n",
      "================================================================================\n",
      "\n",
      "Epoch: 20/30, Iteration 20/124, Train Loss: 1.2616, Valid Loss: 1.2773\n",
      "================================================================================\n",
      "\n",
      "Epoch: 20/30, Iteration 40/124, Train Loss: 1.2520, Valid Loss: 1.2754\n",
      "================================================================================\n",
      "\n",
      "Epoch: 20/30, Iteration 60/124, Train Loss: 1.2525, Valid Loss: 1.2755\n",
      "================================================================================\n",
      "\n",
      "Epoch: 20/30, Iteration 80/124, Train Loss: 1.2539, Valid Loss: 1.2787\n",
      "================================================================================\n",
      "\n",
      "Epoch: 20/30, Iteration 100/124, Train Loss: 1.2548, Valid Loss: 1.2701\n",
      "================================================================================\n",
      "\n",
      "Epoch: 20/30, Iteration 120/124, Train Loss: 1.2533, Valid Loss: 1.2735\n",
      "================================================================================\n",
      "\n",
      "Epoch: 20/30, Iteration 124/124, Train Loss: 1.2528, Valid Loss: 1.2740\n",
      "\n",
      "================================================================================\n",
      "================================================================================\n",
      "================================================================================\n",
      "================================================================================\n",
      "\n",
      "Epoch: 21/30, Iteration 20/124, Train Loss: 1.2480, Valid Loss: 1.2685\n",
      "================================================================================\n",
      "\n",
      "Epoch: 21/30, Iteration 40/124, Train Loss: 1.2408, Valid Loss: 1.2702\n",
      "================================================================================\n",
      "\n",
      "Epoch: 21/30, Iteration 60/124, Train Loss: 1.2411, Valid Loss: 1.2694\n",
      "================================================================================\n",
      "\n",
      "Epoch: 21/30, Iteration 80/124, Train Loss: 1.2430, Valid Loss: 1.2694\n",
      "================================================================================\n",
      "\n",
      "Epoch: 21/30, Iteration 100/124, Train Loss: 1.2438, Valid Loss: 1.2645\n",
      "================================================================================\n",
      "\n",
      "Epoch: 21/30, Iteration 120/124, Train Loss: 1.2424, Valid Loss: 1.2659\n",
      "================================================================================\n",
      "\n",
      "Epoch: 21/30, Iteration 124/124, Train Loss: 1.2419, Valid Loss: 1.2694\n",
      "\n",
      "================================================================================\n",
      "================================================================================\n",
      "================================================================================\n",
      "================================================================================\n",
      "\n",
      "Epoch: 22/30, Iteration 20/124, Train Loss: 1.2376, Valid Loss: 1.2644\n",
      "================================================================================\n",
      "\n",
      "Epoch: 22/30, Iteration 40/124, Train Loss: 1.2294, Valid Loss: 1.2614\n",
      "================================================================================\n",
      "\n",
      "Epoch: 22/30, Iteration 60/124, Train Loss: 1.2305, Valid Loss: 1.2657\n",
      "================================================================================\n",
      "\n",
      "Epoch: 22/30, Iteration 80/124, Train Loss: 1.2325, Valid Loss: 1.2643\n",
      "================================================================================\n",
      "\n",
      "Epoch: 22/30, Iteration 100/124, Train Loss: 1.2327, Valid Loss: 1.2606\n",
      "================================================================================\n",
      "\n",
      "Epoch: 22/30, Iteration 120/124, Train Loss: 1.2314, Valid Loss: 1.2610\n",
      "================================================================================\n",
      "\n",
      "Epoch: 22/30, Iteration 124/124, Train Loss: 1.2309, Valid Loss: 1.2608\n",
      "\n",
      "================================================================================\n",
      "================================================================================\n",
      "================================================================================\n",
      "================================================================================\n",
      "\n",
      "Epoch: 23/30, Iteration 20/124, Train Loss: 1.2283, Valid Loss: 1.2575\n",
      "================================================================================\n",
      "\n",
      "Epoch: 23/30, Iteration 40/124, Train Loss: 1.2203, Valid Loss: 1.2594\n",
      "================================================================================\n",
      "\n",
      "Epoch: 23/30, Iteration 60/124, Train Loss: 1.2215, Valid Loss: 1.2603\n",
      "================================================================================\n",
      "\n",
      "Epoch: 23/30, Iteration 80/124, Train Loss: 1.2229, Valid Loss: 1.2590\n",
      "================================================================================\n",
      "\n",
      "Epoch: 23/30, Iteration 100/124, Train Loss: 1.2235, Valid Loss: 1.2554\n",
      "================================================================================\n",
      "\n",
      "Epoch: 23/30, Iteration 120/124, Train Loss: 1.2221, Valid Loss: 1.2562\n",
      "================================================================================\n",
      "\n",
      "Epoch: 23/30, Iteration 124/124, Train Loss: 1.2215, Valid Loss: 1.2576\n",
      "\n",
      "================================================================================\n",
      "================================================================================\n",
      "================================================================================\n",
      "================================================================================\n",
      "\n",
      "Epoch: 24/30, Iteration 20/124, Train Loss: 1.2186, Valid Loss: 1.2528\n",
      "================================================================================\n",
      "\n",
      "Epoch: 24/30, Iteration 40/124, Train Loss: 1.2110, Valid Loss: 1.2527\n",
      "================================================================================\n",
      "\n",
      "Epoch: 24/30, Iteration 60/124, Train Loss: 1.2116, Valid Loss: 1.2531\n",
      "================================================================================\n",
      "\n",
      "Epoch: 24/30, Iteration 80/124, Train Loss: 1.2130, Valid Loss: 1.2550\n",
      "================================================================================\n",
      "\n",
      "Epoch: 24/30, Iteration 100/124, Train Loss: 1.2137, Valid Loss: 1.2505\n",
      "================================================================================\n",
      "\n",
      "Epoch: 24/30, Iteration 120/124, Train Loss: 1.2127, Valid Loss: 1.2542\n",
      "================================================================================\n",
      "\n",
      "Epoch: 24/30, Iteration 124/124, Train Loss: 1.2122, Valid Loss: 1.2527\n",
      "\n",
      "================================================================================\n",
      "================================================================================\n",
      "================================================================================\n",
      "================================================================================\n",
      "\n",
      "Epoch: 25/30, Iteration 20/124, Train Loss: 1.2094, Valid Loss: 1.2468\n",
      "================================================================================\n",
      "\n",
      "Epoch: 25/30, Iteration 40/124, Train Loss: 1.2022, Valid Loss: 1.2532\n",
      "================================================================================\n",
      "\n",
      "Epoch: 25/30, Iteration 60/124, Train Loss: 1.2028, Valid Loss: 1.2464\n",
      "================================================================================\n",
      "\n",
      "Epoch: 25/30, Iteration 80/124, Train Loss: 1.2044, Valid Loss: 1.2512\n",
      "================================================================================\n",
      "\n",
      "Epoch: 25/30, Iteration 100/124, Train Loss: 1.2050, Valid Loss: 1.2478\n",
      "================================================================================\n",
      "\n",
      "Epoch: 25/30, Iteration 120/124, Train Loss: 1.2039, Valid Loss: 1.2502\n",
      "================================================================================\n",
      "\n",
      "Epoch: 25/30, Iteration 124/124, Train Loss: 1.2034, Valid Loss: 1.2501\n",
      "\n",
      "================================================================================\n",
      "================================================================================\n",
      "================================================================================\n",
      "================================================================================\n",
      "\n",
      "Epoch: 26/30, Iteration 20/124, Train Loss: 1.2015, Valid Loss: 1.2467\n",
      "================================================================================\n",
      "\n",
      "Epoch: 26/30, Iteration 40/124, Train Loss: 1.1931, Valid Loss: 1.2469\n",
      "================================================================================\n",
      "\n",
      "Epoch: 26/30, Iteration 60/124, Train Loss: 1.1944, Valid Loss: 1.2455\n",
      "================================================================================\n",
      "\n",
      "Epoch: 26/30, Iteration 80/124, Train Loss: 1.1962, Valid Loss: 1.2479\n",
      "================================================================================\n",
      "\n",
      "Epoch: 26/30, Iteration 100/124, Train Loss: 1.1971, Valid Loss: 1.2431\n",
      "================================================================================\n",
      "\n",
      "Epoch: 26/30, Iteration 120/124, Train Loss: 1.1958, Valid Loss: 1.2438\n",
      "================================================================================\n",
      "\n",
      "Epoch: 26/30, Iteration 124/124, Train Loss: 1.1953, Valid Loss: 1.2468\n",
      "\n",
      "================================================================================\n",
      "================================================================================\n",
      "================================================================================\n",
      "================================================================================\n",
      "\n",
      "Epoch: 27/30, Iteration 20/124, Train Loss: 1.1928, Valid Loss: 1.2428\n",
      "================================================================================\n",
      "\n",
      "Epoch: 27/30, Iteration 40/124, Train Loss: 1.1849, Valid Loss: 1.2432\n",
      "================================================================================\n",
      "\n",
      "Epoch: 27/30, Iteration 60/124, Train Loss: 1.1860, Valid Loss: 1.2409\n",
      "================================================================================\n",
      "\n",
      "Epoch: 27/30, Iteration 80/124, Train Loss: 1.1876, Valid Loss: 1.2433\n",
      "================================================================================\n",
      "\n",
      "Epoch: 27/30, Iteration 100/124, Train Loss: 1.1882, Valid Loss: 1.2395\n",
      "================================================================================\n",
      "\n",
      "Epoch: 27/30, Iteration 120/124, Train Loss: 1.1870, Valid Loss: 1.2400\n",
      "================================================================================\n",
      "\n",
      "Epoch: 27/30, Iteration 124/124, Train Loss: 1.1866, Valid Loss: 1.2430\n",
      "\n",
      "================================================================================\n",
      "================================================================================\n",
      "================================================================================\n",
      "================================================================================\n",
      "\n",
      "Epoch: 28/30, Iteration 20/124, Train Loss: 1.1853, Valid Loss: 1.2387\n",
      "================================================================================\n",
      "\n",
      "Epoch: 28/30, Iteration 40/124, Train Loss: 1.1774, Valid Loss: 1.2399\n",
      "================================================================================\n",
      "\n",
      "Epoch: 28/30, Iteration 60/124, Train Loss: 1.1775, Valid Loss: 1.2357\n",
      "================================================================================\n",
      "\n",
      "Epoch: 28/30, Iteration 80/124, Train Loss: 1.1791, Valid Loss: 1.2356\n",
      "================================================================================\n",
      "\n",
      "Epoch: 28/30, Iteration 100/124, Train Loss: 1.1798, Valid Loss: 1.2360\n",
      "================================================================================\n",
      "\n",
      "Epoch: 28/30, Iteration 120/124, Train Loss: 1.1787, Valid Loss: 1.2376\n",
      "================================================================================\n",
      "\n",
      "Epoch: 28/30, Iteration 124/124, Train Loss: 1.1782, Valid Loss: 1.2392\n",
      "\n",
      "================================================================================\n",
      "================================================================================\n",
      "================================================================================\n",
      "================================================================================\n",
      "\n",
      "Epoch: 29/30, Iteration 20/124, Train Loss: 1.1774, Valid Loss: 1.2346\n",
      "================================================================================\n",
      "\n",
      "Epoch: 29/30, Iteration 40/124, Train Loss: 1.1695, Valid Loss: 1.2353\n",
      "================================================================================\n",
      "\n",
      "Epoch: 29/30, Iteration 60/124, Train Loss: 1.1700, Valid Loss: 1.2273\n",
      "================================================================================\n",
      "\n",
      "Epoch: 29/30, Iteration 80/124, Train Loss: 1.1716, Valid Loss: 1.2294\n",
      "================================================================================\n",
      "\n",
      "Epoch: 29/30, Iteration 100/124, Train Loss: 1.1722, Valid Loss: 1.2326\n",
      "================================================================================\n",
      "\n",
      "Epoch: 29/30, Iteration 120/124, Train Loss: 1.1710, Valid Loss: 1.2272\n",
      "================================================================================\n",
      "\n",
      "Epoch: 29/30, Iteration 124/124, Train Loss: 1.1703, Valid Loss: 1.2337\n",
      "\n",
      "================================================================================\n",
      "================================================================================\n",
      "================================================================================\n",
      "================================================================================\n",
      "\n",
      "Epoch: 30/30, Iteration 20/124, Train Loss: 1.1675, Valid Loss: 1.2249\n",
      "================================================================================\n",
      "\n",
      "Epoch: 30/30, Iteration 40/124, Train Loss: 1.1587, Valid Loss: 1.2274\n",
      "================================================================================\n",
      "\n",
      "Epoch: 30/30, Iteration 60/124, Train Loss: 1.1589, Valid Loss: 1.2268\n",
      "================================================================================\n",
      "\n",
      "Epoch: 30/30, Iteration 80/124, Train Loss: 1.1608, Valid Loss: 1.2216\n",
      "================================================================================\n",
      "\n",
      "Epoch: 30/30, Iteration 100/124, Train Loss: 1.1619, Valid Loss: 1.2330\n",
      "================================================================================\n",
      "\n",
      "Epoch: 30/30, Iteration 120/124, Train Loss: 1.1604, Valid Loss: 1.2204\n",
      "================================================================================\n",
      "\n",
      "Epoch: 30/30, Iteration 124/124, Train Loss: 1.1600, Valid Loss: 1.2259\n",
      "\n",
      "================================================================================\n",
      "================================================================================\n",
      "================================================================================\n"
     ]
    }
   ],
   "source": [
    "running_train_loss = list()\n",
    "running_val_loss = list()\n",
    "\n",
    "### Outer training loop\n",
    "for epoch in range(1, epochs + 1):\n",
    "    h = model.init_hidden_state(mean = 0., stddev = .5)\n",
    "    iteration = 0\n",
    "    train_losses = list()\n",
    "    \n",
    "    ### Inner training loop\n",
    "    for X, y in batch_sequence(encoded_text, batch_size, seq_length)[0]:\n",
    "        X = one_hot_encode(X, len(unique_char))\n",
    "        X, y = torch.as_tensor(X).to(device), torch.as_tensor(y).to(device)\n",
    "        \n",
    "        model.train()\n",
    "        iteration += 1\n",
    "        \n",
    "        h = tuple([each.data for each in h])\n",
    "        opt.zero_grad()\n",
    "        \n",
    "        outputs, h = model(X, h)\n",
    "        \n",
    "        loss = criterion(outputs, y.reshape(-1,).long())\n",
    "        \n",
    "        loss.backward(retain_graph = True)\n",
    "        nn.utils.clip_grad_norm_(model.parameters(), max_norm)\n",
    "        opt.step()\n",
    "        \n",
    "        train_losses.append(loss.detach().cpu().item())\n",
    "        \n",
    "        ### Outer validation loop\n",
    "        if (not iteration % 20) or (iteration == num_batches):\n",
    "            i = 0\n",
    "            val_losses = list()\n",
    "            model.eval()\n",
    "            val_h = model.init_hidden_state(mean = 0., stddev = .5)\n",
    "            \n",
    "            ### Inner validation loop\n",
    "            with torch.inference_mode():\n",
    "                for X_, y_ in batch_sequence(encoded_val, batch_size, seq_length)[0]:\n",
    "                    i += 1\n",
    "\n",
    "                    val_h = tuple([each.data for each in val_h])\n",
    "\n",
    "                    X_ = torch.as_tensor(one_hot_encode(X_, len(unique_chars))).to(device)\n",
    "                    y_ = torch.as_tensor(y_).to(device)\n",
    "\n",
    "                    outputs_, val_h = model(X_, val_h)\n",
    "\n",
    "                    val_loss = criterion(outputs_, y_.reshape(-1,).long())\n",
    "                    val_losses.append(val_loss.detach().cpu().item())\n",
    "\n",
    "                ### Report training and validation losses\n",
    "                val_loss = torch.Tensor(val_losses).mean().item()\n",
    "\n",
    "                train_loss = torch.Tensor(train_losses).mean().item()\n",
    "            \n",
    "            running_train_loss.append(train_loss)\n",
    "            running_val_loss.append(val_loss)\n",
    "            \n",
    "            print('='*80+\"\\n\")\n",
    "            print(f'Epoch: {epoch}/{epochs}, Iteration {iteration}/{num_batches},',\n",
    "                  f'Train Loss: {train_loss:.4f}, Valid Loss: {val_loss:.4f}')\n",
    "        \n",
    "    print('\\n'+'='*80)\n",
    "    print('='*80)\n",
    "    print('='*80)\n",
    "    #print('='*60)\n",
    "    #print(f'Epoch: {epoch}/{epochs}, Train Loss: {train_loss:.4f}, Valid Loss: {val_loss:.4f}\\n')\n",
    "    #print('='*60)"
   ]
  },
  {
   "cell_type": "code",
   "execution_count": 49,
   "id": "6e6d7e28",
   "metadata": {},
   "outputs": [
    {
     "name": "stderr",
     "output_type": "stream",
     "text": [
      "No artists with labels found to put in legend.  Note that artists whose label start with an underscore are ignored when legend() is called with no argument.\n"
     ]
    },
    {
     "data": {
      "text/plain": "<Figure size 2000x1000 with 1 Axes>",
      "image/png": "[encoded data removed]"
     },
     "metadata": {},
     "output_type": "display_data"
    }
   ],
   "source": [
    "plt.figure(figsize = (20, 10))\n",
    "plt.plot(range(len(running_train_loss)), running_train_loss, range(len(running_val_loss)), running_val_loss)\n",
    "plt.xlabel(\"Iterations\")\n",
    "plt.ylabel(\"Loss\")\n",
    "plt.suptitle(\"Loss over iterations (LSTM)\", fontsize = 20)\n",
    "plt.legend()\n",
    "plt.show(); plt.close(\"all\")"
   ]
  },
  {
   "cell_type": "code",
   "execution_count": 50,
   "id": "ef59c647",
   "metadata": {},
   "outputs": [],
   "source": [
    "### Freeze model weights\n",
    "model.requires_grad_ = False"
   ]
  },
  {
   "cell_type": "code",
   "execution_count": 51,
   "id": "b19040ea",
   "metadata": {},
   "outputs": [],
   "source": [
    "int2char = encoding_results.int2char\n",
    "char2int = encoding_results.char2int"
   ]
  },
  {
   "cell_type": "code",
   "execution_count": 52,
   "id": "d48c2df7",
   "metadata": {},
   "outputs": [],
   "source": [
    "seed = \"Lan al'Mandragoran went up the mountain\"\n",
    "k = 5"
   ]
  },
  {
   "cell_type": "code",
   "execution_count": 53,
   "id": "46c9ddfb",
   "metadata": {},
   "outputs": [],
   "source": [
    "def predict(x, h, net, k = 5):\n",
    "    x = np.array([[char2int[x]]])\n",
    "    x = one_hot_encode(x, len(unique_chars))\n",
    "    x = torch.from_numpy(x).to(device).contiguous()\n",
    "    \n",
    "    out, h = net(x, h)\n",
    "    p = F.softmax(out, dim = -1).data\n",
    "    p, chars = p.topk(k, dim = -1)\n",
    "    \n",
    "    chars = chars.detach().cpu().numpy().squeeze()\n",
    "    p = p.detach().cpu().numpy().squeeze()\n",
    "    \n",
    "    return np.random.choice(chars, p = p/p.sum()), h"
   ]
  },
  {
   "cell_type": "code",
   "execution_count": 54,
   "id": "bc5bef37",
   "metadata": {},
   "outputs": [
    {
     "data": {
      "text/plain": "(20,\n (tensor([[[ 0.0968, -0.2374,  0.1266,  ..., -0.0860,  0.0987, -0.0934]],\n  \n          [[ 0.2269, -0.2540,  0.1349,  ..., -0.1243, -0.0698,  0.0599]]],\n         device='cuda:0', grad_fn=<CudnnRnnBackward0>),\n  tensor([[[ 0.2047, -0.3630,  0.1963,  ..., -0.1409,  0.1715, -0.1539]],\n  \n          [[ 0.4648, -0.6441,  0.3031,  ..., -0.1590, -0.1269,  0.1992]]],\n         device='cuda:0', grad_fn=<CudnnRnnBackward0>)))"
     },
     "execution_count": 54,
     "metadata": {},
     "output_type": "execute_result"
    }
   ],
   "source": [
    "a = torch.distributions.Normal(scale = 0.5, loc = 0.).sample((num_layers, 1, hidden_size)).zero_()\n",
    "b = torch.distributions.Normal(scale = 0.5, loc = 0.).sample((num_layers, 1, hidden_size)).zero_()\n",
    "h = (a.to(device), b.to(device))\n",
    "\n",
    "predict(\"D\", h, model, 5)"
   ]
  },
  {
   "cell_type": "code",
   "execution_count": 55,
   "id": "2ae7a4e8",
   "metadata": {},
   "outputs": [],
   "source": [
    "def prime_model(model, seed, k):\n",
    "    seed_list = list(seed)\n",
    "\n",
    "    h = torch.distributions.Normal(scale = 0.5, loc = 0.).sample((num_layers, 1, hidden_size))\n",
    "    if model.base_rnn == nn.LSTM:\n",
    "        b = torch.distributions.Normal(scale = 0.5, loc = 0.).sample((num_layers, 1, hidden_size))\n",
    "        h = (h.to(device), b.to(device))\n",
    "\n",
    "    for char in seed_list:\n",
    "        h = tuple([each.data for each in h]) if type(h) == tuple else h.data\n",
    "        next_char, h = predict(char, h, model, k)\n",
    "\n",
    "    seed_list.append(int2char[next_char])\n",
    "\n",
    "    return seed_list, h"
   ]
  },
  {
   "cell_type": "markdown",
   "source": [
    "seed_list = list(seed)\n",
    "\n",
    "a = torch.distributions.Normal(scale = 0.5, loc = 0.).sample((num_layers, 1, hidden_size))\n",
    "b = torch.distributions.Normal(scale = 0.5, loc = 0.).sample((num_layers, 1, hidden_size))\n",
    "h = (a.to(device), b.to(device))\n",
    "\n",
    "for char in seed_list:\n",
    "    h = tuple([each.data for each in h])\n",
    "    next_char, h = predict(char, h, model, k)\n",
    "\n",
    "seed_list.append(int2char[next_char])\n",
    "seed_list_1 = seed_list.copy()\n",
    "seed_list_2 = seed_list.copy()"
   ],
   "metadata": {
    "collapsed": false
   }
  },
  {
   "cell_type": "code",
   "execution_count": 56,
   "outputs": [],
   "source": [
    "first_seed_list, h = prime_model(model, seed, k)"
   ],
   "metadata": {
    "collapsed": false
   }
  },
  {
   "cell_type": "code",
   "execution_count": 57,
   "id": "4da6f086",
   "metadata": {},
   "outputs": [
    {
     "name": "stdout",
     "output_type": "stream",
     "text": [
      "Lan al'Mandragoran went up the mountain\n",
      "\n"
     ]
    }
   ],
   "source": [
    "print(''.join(first_seed_list))"
   ]
  },
  {
   "cell_type": "code",
   "execution_count": 58,
   "id": "9fb55a96",
   "metadata": {},
   "outputs": [],
   "source": [
    "## Method 1\n",
    "for ii in range(1000):\n",
    "    h = tuple([each.data for each in h])\n",
    "    next_char, h = predict(first_seed_list[-1], h, model, k)\n",
    "    first_seed_list.append(int2char[next_char])"
   ]
  },
  {
   "cell_type": "code",
   "execution_count": 59,
   "outputs": [],
   "source": [
    "seed = \"Why would you imagine that\"\n",
    "\n",
    "second_seed_list, h = prime_model(model, seed, k)"
   ],
   "metadata": {
    "collapsed": false
   }
  },
  {
   "cell_type": "code",
   "execution_count": 60,
   "id": "fa765dee",
   "metadata": {},
   "outputs": [],
   "source": [
    "## Method 2\n",
    "for ix in range(1000):\n",
    "    h = tuple([each.data.to(device) for each in h])\n",
    "    x = np.array(char2int[second_seed_list[-1]]).reshape(1, -1)\n",
    "    x = one_hot_encode(x, len(unique_char))\n",
    "    x = torch.tensor(x).to(device)\n",
    "    out, h = model(x, h)\n",
    "    \n",
    "    p = F.softmax(out, dim=-1)\n",
    "    p, chars = p.topk(k = k, dim=-1)\n",
    "    chars = chars.detach().cpu().numpy().squeeze()\n",
    "    p = p.detach().cpu().numpy().squeeze()\n",
    "    second_seed_list.append(int2char[np.random.choice(chars, p = p/p.sum())])\n",
    "    #next_char = chars[torch.distributions.Uniform(low = 0, high = k).sample().to(torch.int32).item()].item()\n",
    "    #seed_list.append(int2char[next_char])\n",
    "    "
   ]
  },
  {
   "cell_type": "code",
   "execution_count": 61,
   "id": "63effbd9",
   "metadata": {},
   "outputs": [],
   "source": [
    "### First generated text sample\n",
    "first_pred_text = ''.join(first_seed_list)"
   ]
  },
  {
   "cell_type": "code",
   "execution_count": 62,
   "id": "cf8bf079",
   "metadata": {},
   "outputs": [
    {
     "name": "stdout",
     "output_type": "stream",
     "text": [
      "Lan al'Mandragoran went up the mountain\n",
      "of the point of the poirts, but the more the position of her happy. The conversation was not\n",
      "a single day at their personal. Anna's bitteres, bushing\n",
      "him. His brother in her face had not she heard him and having,\n",
      "as at once, who had already forgetting to be still more than as how she\n",
      "saw his show and all, serious his mane high brows, and the\n",
      "carping of the window with her set of the corridor and shook his eyes.\n",
      "\n",
      "Sergey Ivanovitch stood staying at him.\n",
      "\n",
      "\"Ah! the son, and stay, and I will cannot take to my prayers, I say that I suspose the\n",
      "same side.... They wants to me so some tone of thoughts.\"\n",
      "\n",
      "\"Well, are you going to start things without my, but you know, and we could\n",
      "say. But is that his hands,\n",
      "which\n",
      "you're all abroad, while I can't get off. There's no terror of them\n",
      "into the mirthfulne, though I should\n",
      "not go or and should she have been as in the\n",
      "party there has a spreng on the sick of the three-grass and a peace, whatever it were\n",
      "anything\n",
      "all that he's no one would be a good and c\n"
     ]
    }
   ],
   "source": [
    "print(first_pred_text)"
   ]
  },
  {
   "cell_type": "code",
   "execution_count": 63,
   "id": "55e7f62d",
   "metadata": {},
   "outputs": [],
   "source": [
    "### Second generated text sample\n",
    "second_pred_text = ''.join(second_seed_list)"
   ]
  },
  {
   "cell_type": "code",
   "execution_count": 64,
   "id": "0104ba81",
   "metadata": {},
   "outputs": [
    {
     "name": "stdout",
     "output_type": "stream",
     "text": [
      "Why would you imagine that it\n",
      "supportured it all such a minute, that through her shore transler in a\n",
      "profosmic and sense of things, and a standing minute, the\n",
      "children, it's not a confust of it. But has it saying that the sound of\n",
      "her legs as they can talk to her. Have you see that.\"\n",
      "\n",
      "\"What would you go on. To be done!\" she whispered.\n",
      "\n",
      "\"Ah! you're not to see him thinking of at that side,\" she added, and he was\n",
      "carried theres in the conversation with the most counting second\n",
      "state of a gloomy winkow, and his stall she did not know his strange the\n",
      "surprise.\n",
      "\n",
      "\"I don't like it,\" said Levin, would be all of his sister-in-law,\n",
      "and the moment's half and heary, all of them service, and to speak of\n",
      "the party of the morning on the side of all her face. The marshal of the\n",
      "privan true of the words was something so as the only one was that he\n",
      "was a chance of social son. He felt, he went out of the\n",
      "cheeks of this carriage had\n",
      "been been work and considerations of her husband and\n",
      "anyone he had saw that in the same tensily and t\n"
     ]
    }
   ],
   "source": [
    "print(second_pred_text)"
   ]
  },
  {
   "cell_type": "code",
   "execution_count": 64,
   "id": "61904200",
   "metadata": {},
   "outputs": [],
   "source": []
  }
 ],
 "metadata": {
  "kernelspec": {
   "display_name": "Python 3 (ipykernel)",
   "language": "python",
   "name": "python3"
  },
  "language_info": {
   "codemirror_mode": {
    "name": "ipython",
    "version": 3
   },
   "file_extension": ".py",
   "mimetype": "text/x-python",
   "name": "python",
   "nbconvert_exporter": "python",
   "pygments_lexer": "ipython3",
   "version": "3.9.13"
  }
 },
 "nbformat": 4,
 "nbformat_minor": 5
}
