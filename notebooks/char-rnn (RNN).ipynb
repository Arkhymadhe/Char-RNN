{
 "cells": [
  {
   "cell_type": "code",
   "execution_count": 1,
   "id": "07f42d1c",
   "metadata": {},
   "outputs": [],
   "source": [
    "import gc\n",
    "import os\n",
    "import string\n",
    "\n",
    "import matplotlib.pyplot as plt\n",
    "from jupyterthemes import jtplot\n",
    "\n",
    "import torch\n",
    "import numpy as np\n",
    "from torch import nn\n",
    "from torch.nn import functional as F\n",
    "from torch import optim\n",
    "from torchinfo import summary\n",
    "\n",
    "from collections import namedtuple\n",
    "import PyPDF3"
   ]
  },
  {
   "cell_type": "code",
   "execution_count": 2,
   "id": "4361f2d9",
   "metadata": {},
   "outputs": [],
   "source": [
    "jtplot.style(\"gruvboxd\")"
   ]
  },
  {
   "cell_type": "code",
   "execution_count": 3,
   "id": "dd197c9d",
   "metadata": {},
   "outputs": [],
   "source": [
    "device = torch.device('cuda') if torch.cuda.is_available() else torch.device('cpu')"
   ]
  },
  {
   "cell_type": "code",
   "execution_count": 4,
   "id": "77641757",
   "metadata": {},
   "outputs": [
    {
     "data": {
      "text/plain": "device(type='cuda')"
     },
     "execution_count": 4,
     "metadata": {},
     "output_type": "execute_result"
    }
   ],
   "source": [
    "device"
   ]
  },
  {
   "cell_type": "code",
   "execution_count": 5,
   "id": "82d460af",
   "metadata": {},
   "outputs": [],
   "source": [
    "SEED = 42\n",
    "\n",
    "if device == \"cuda\":\n",
    "    torch.cuda.manual_seed(SEED)\n",
    "else:\n",
    "    torch.manual_seed(SEED)"
   ]
  },
  {
   "cell_type": "code",
   "execution_count": 6,
   "id": "bc7cb135",
   "metadata": {},
   "outputs": [],
   "source": [
    "DATA_DIR = os.getcwd().replace('notebooks', 'data')\n",
    "\n",
    "with open(os.path.join(DATA_DIR, 'anna.txt'), 'r') as file:\n",
    "    text = file.read()"
   ]
  },
  {
   "cell_type": "code",
   "execution_count": 7,
   "id": "3e114c91",
   "metadata": {},
   "outputs": [
    {
     "data": {
      "text/plain": "'Chapter 1\\n\\n\\nHappy families are all alike; every unhappy family is unhappy in its own\\nway.\\n\\nEverything was in confusion i'"
     },
     "execution_count": 7,
     "metadata": {},
     "output_type": "execute_result"
    }
   ],
   "source": [
    "text[:120]"
   ]
  },
  {
   "cell_type": "code",
   "execution_count": 8,
   "id": "11057aa4",
   "metadata": {},
   "outputs": [],
   "source": [
    "unique_chars = list(set(text))"
   ]
  },
  {
   "cell_type": "code",
   "execution_count": 9,
   "id": "67e76fe2",
   "metadata": {},
   "outputs": [
    {
     "data": {
      "text/plain": "83"
     },
     "execution_count": 9,
     "metadata": {},
     "output_type": "execute_result"
    }
   ],
   "source": [
    "len(unique_chars)"
   ]
  },
  {
   "cell_type": "code",
   "execution_count": 10,
   "id": "21953450",
   "metadata": {},
   "outputs": [
    {
     "data": {
      "text/plain": "['l',\n 's',\n '4',\n '-',\n 'i',\n 'N',\n 'Z',\n '8',\n ';',\n 'R',\n \"'\",\n 'r',\n 'v',\n ' ',\n '@',\n '/',\n 'p',\n 'U',\n 'Q',\n '_',\n 'n',\n 'j',\n 'V',\n 'e',\n '6',\n '3',\n 't',\n 'w',\n '\\n',\n 'T',\n '9',\n 'E',\n 'k',\n 'Y',\n 'o',\n 'H',\n 'L',\n '7',\n '2',\n 'M',\n 'I',\n 'h',\n 'g',\n '(',\n 'F',\n 'P',\n 'A',\n '5',\n 'K',\n 'O',\n ',',\n 'b',\n '%',\n '\"',\n 'B',\n '`',\n '?',\n '!',\n '*',\n '0',\n 'y',\n 'z',\n ':',\n '.',\n 'S',\n '1',\n ')',\n 'c',\n 'G',\n 'q',\n 'X',\n 'a',\n '&',\n 'm',\n 'D',\n 'd',\n '$',\n 'x',\n 'J',\n 'C',\n 'u',\n 'f',\n 'W']"
     },
     "execution_count": 10,
     "metadata": {},
     "output_type": "execute_result"
    }
   ],
   "source": [
    "unique_chars"
   ]
  },
  {
   "cell_type": "code",
   "execution_count": 11,
   "id": "cff3e761",
   "metadata": {},
   "outputs": [],
   "source": [
    "chars2int = {char : unique_chars.index(char) for char in unique_chars}\n",
    "int2char = {v : k for (k, v) in chars2int.items()}"
   ]
  },
  {
   "cell_type": "code",
   "execution_count": 12,
   "id": "f7672a7e",
   "metadata": {},
   "outputs": [],
   "source": [
    "def encode_text(text, unique_chars = None, extend = False):\n",
    "    result_tuple = namedtuple('results', ['encoded_text', 'unique_char', 'int2char', 'char2int'])\n",
    "    \n",
    "    if unique_chars is None:\n",
    "        unique_chars = list(set(text))\n",
    "    else:\n",
    "        if extend:\n",
    "            unique_chars.extend(list('#[]{}+-*=!'))\n",
    "        \n",
    "    char2int = {char : unique_chars.index(char) for char in unique_chars}\n",
    "    int2char = {v : k for (k, v) in char2int.items()}\n",
    "    \n",
    "    encoded_text = np.array(list(map(lambda x: char2int[x], list(text))))\n",
    "    \n",
    "    return result_tuple(encoded_text, unique_chars, int2char, char2int)"
   ]
  },
  {
   "cell_type": "code",
   "execution_count": 13,
   "id": "255380ed",
   "metadata": {},
   "outputs": [],
   "source": [
    "train_frac = 0.8\n",
    "text, val_text = text[:int(len(text)*train_frac)], text[int(len(text)*(train_frac)):]"
   ]
  },
  {
   "cell_type": "code",
   "execution_count": 14,
   "id": "08b7225b",
   "metadata": {},
   "outputs": [],
   "source": [
    "encoded_text, unique_chars, int2char, char2int = encode_text(text, unique_chars)"
   ]
  },
  {
   "cell_type": "code",
   "execution_count": 15,
   "id": "11909de7",
   "metadata": {},
   "outputs": [],
   "source": [
    "def one_hot_convert(arr, n_labels):\n",
    "    nrows = arr.size\n",
    "    array = np.zeros(shape = [nrows, n_labels])\n",
    "    array[np.arange(array.shape[0]), arr.flatten()] = 1.\n",
    "    \n",
    "    return array"
   ]
  },
  {
   "cell_type": "code",
   "execution_count": 16,
   "id": "9c61328d",
   "metadata": {},
   "outputs": [
    {
     "data": {
      "text/plain": "array([[0., 1., 0., 0., 0., 0., 0., 0., 0., 0.],\n       [0., 0., 1., 0., 0., 0., 0., 0., 0., 0.],\n       [0., 0., 0., 1., 0., 0., 0., 0., 0., 0.],\n       [0., 0., 0., 0., 0., 1., 0., 0., 0., 0.]])"
     },
     "execution_count": 16,
     "metadata": {},
     "output_type": "execute_result"
    }
   ],
   "source": [
    "one_hot_convert(np.array([[1, 2, 3, 5]]), 10)"
   ]
  },
  {
   "cell_type": "code",
   "execution_count": 17,
   "id": "af0bdb53",
   "metadata": {},
   "outputs": [],
   "source": [
    "batch_size = 32\n",
    "seq_length = 16"
   ]
  },
  {
   "cell_type": "code",
   "execution_count": 18,
   "id": "1a96b27a",
   "metadata": {},
   "outputs": [],
   "source": [
    "numel_seq = batch_size * seq_length"
   ]
  },
  {
   "cell_type": "code",
   "execution_count": 19,
   "id": "4358a639",
   "metadata": {},
   "outputs": [
    {
     "data": {
      "text/plain": "512"
     },
     "execution_count": 19,
     "metadata": {},
     "output_type": "execute_result"
    }
   ],
   "source": [
    "numel_seq"
   ]
  },
  {
   "cell_type": "code",
   "execution_count": 20,
   "id": "bec42739",
   "metadata": {},
   "outputs": [
    {
     "data": {
      "text/plain": "3101.91015625"
     },
     "execution_count": 20,
     "metadata": {},
     "output_type": "execute_result"
    }
   ],
   "source": [
    "encoded_text.shape[0]/numel_seq"
   ]
  },
  {
   "cell_type": "code",
   "execution_count": 21,
   "id": "1d9da284",
   "metadata": {},
   "outputs": [],
   "source": [
    "def batch_sequence(arr, batch_size, seq_length):\n",
    "    numel_seq = batch_size * seq_length\n",
    "    num_batches = arr.size // numel_seq\n",
    "    \n",
    "    arr = arr[: num_batches * numel_seq].reshape(batch_size, -1)\n",
    "    #print(arr.shape)\n",
    "    \n",
    "    batched_data = [(arr[:, n : n + seq_length], arr[:, n + 1 : n + 1 + seq_length])\n",
    "                    for n in range(0, arr.shape[1], seq_length)]\n",
    "    \n",
    "    ### Finalize final array size\n",
    "    batched_data[-1] = (batched_data[-1][0],\n",
    "                        np.append(batched_data[-1][1], batched_data[0][1][:, 0].reshape(-1, 1), axis = 1))\n",
    "    \n",
    "    ###batched_arr = [arr[n : n + numel_seq].reshape(batch_size, seq_length) for n in range(num_batches)]\n",
    "    return iter(batched_data), num_batches"
   ]
  },
  {
   "cell_type": "code",
   "execution_count": 22,
   "id": "8128515f",
   "metadata": {},
   "outputs": [],
   "source": [
    "batch, _ = batch_sequence(encoded_text, 32, 16)"
   ]
  },
  {
   "cell_type": "code",
   "execution_count": 23,
   "id": "84e57c82",
   "metadata": {},
   "outputs": [],
   "source": [
    "X, y = next(batch)"
   ]
  },
  {
   "cell_type": "code",
   "execution_count": 24,
   "id": "735acbdc",
   "metadata": {},
   "outputs": [
    {
     "data": {
      "text/plain": "array([[79, 41, 71, 16, 26, 23, 11, 13, 65, 28, 28, 28, 35, 71, 16, 16],\n       [23, 13, 41, 71, 75, 13, 81, 34, 11, 42, 34, 26, 26, 23, 20, 13],\n       [26, 11, 71, 42, 23, 75, 60, 13,  4, 20, 28,  4, 26, 63, 53, 28],\n       [26, 13, 41, 23, 11, 13, 27,  4, 26, 41, 13, 73, 23, 50, 13, 71],\n       [23,  4, 11, 13, 41, 34,  1, 26, 28,  1, 73,  4,  0, 23, 75, 13],\n       [23, 26, 23, 11,  1, 51, 80, 11, 42, 50, 13, 71,  1, 13,  1, 34],\n       [ 1, 41, 23, 13, 27, 41,  4,  1, 16, 23, 11, 23, 75, 13, 16, 23],\n       [81, 11, 34, 73, 13, 41, 23, 11, 13, 26, 34, 20, 23, 13, 26, 41],\n       [81, 34, 11, 23, 63, 28, 28, 53, 35, 71, 12, 23, 13, 60, 34, 80],\n       [27, 71,  1, 13, 67, 34, 73, 16,  0, 23, 26, 23,  0, 60, 13, 71],\n       [23, 13, 46,  0, 23, 77, 23, 60, 13, 46,  0, 23, 77, 71, 20, 75],\n       [41, 71, 75, 13, 81, 23,  0, 26, 13, 71, 26, 13,  4, 26, 63, 13],\n       [16, 13, 26, 41, 23, 13,  0, 71,  1, 26, 13,  0,  4, 20, 23, 50],\n       [60, 13, 27, 41,  4, 67, 41, 13, 67, 41,  4,  0, 75, 11, 23, 20],\n       [26,  4, 12, 23, 13, 26, 11,  4, 51, 23,  1, 13, 81, 11, 34, 73],\n       [80, 42, 41, 26, 13, 26, 34, 13, 51, 23, 13, 16, 11, 23, 16, 71],\n       [67, 71, 20, 13, 42, 34, 50, 13, 71, 20, 75, 13, 27, 23, 13, 67],\n       [41, 23, 13,  1,  4, 42, 20,  4, 81,  4, 67, 71, 20, 67, 23, 13],\n       [ 0, 23, 77, 23, 60, 13, 46,  0, 23, 77, 71, 20, 75, 11, 34, 12],\n       [67, 71, 20, 20, 34, 26, 13, 69, 80,  4, 26, 23, 13, 71, 42, 11],\n       [34, 80,  0, 75, 13, 20, 34, 26, 13, 51, 23, 50, 13, 71, 20, 75],\n       [23, 13, 81, 34, 11, 13, 73, 60, 13,  1,  4,  1, 26, 23, 11, 13],\n       [23, 13, 16, 11,  4, 23,  1, 26, 13, 26, 80, 11, 20, 23, 75, 13],\n       [71, 11, 26,  4,  1, 26,  4, 67, 13,  1, 23, 20,  1, 23, 13, 27],\n       [41, 71, 26, 13,  4, 20,  1, 26, 71, 20, 26, 28, 71, 67, 11, 34],\n       [13, 26, 34, 13, 41,  4, 73, 50, 13,  4, 81, 13, 20, 34, 26, 13],\n       [71, 13,  1,  4, 20, 42,  0, 23, 13,  4, 20,  1, 26, 71, 20, 26],\n       [13, 16, 80, 26, 26,  4, 20, 42, 13, 41,  4,  1, 13, 41, 71, 26],\n       [82, 41, 23, 20, 13, 81, 34, 11, 13, 73, 23, 13, 26, 41, 23, 11],\n       [81, 34, 11, 28, 73, 60,  1, 23,  0, 81, 13, 20, 34, 27, 50, 53],\n       [ 4, 73, 23, 56, 13, 44, 34, 11, 13, 34, 20, 23, 13, 75, 71, 60],\n       [13, 71,  0, 34, 20, 23, 63, 63, 63, 63, 13, 54, 80, 26, 13, 27]])"
     },
     "execution_count": 24,
     "metadata": {},
     "output_type": "execute_result"
    }
   ],
   "source": [
    "X"
   ]
  },
  {
   "cell_type": "code",
   "execution_count": 25,
   "id": "8e97bf13",
   "metadata": {},
   "outputs": [
    {
     "data": {
      "text/plain": "array([[41, 71, 16, 26, 23, 11, 13, 65, 28, 28, 28, 35, 71, 16, 16, 60],\n       [13, 41, 71, 75, 13, 81, 34, 11, 42, 34, 26, 26, 23, 20, 13, 26],\n       [11, 71, 42, 23, 75, 60, 13,  4, 20, 28,  4, 26, 63, 53, 28, 28],\n       [13, 41, 23, 11, 13, 27,  4, 26, 41, 13, 73, 23, 50, 13, 71, 20],\n       [ 4, 11, 13, 41, 34,  1, 26, 28,  1, 73,  4,  0, 23, 75, 13, 71],\n       [26, 23, 11,  1, 51, 80, 11, 42, 50, 13, 71,  1, 13,  1, 34, 34],\n       [41, 23, 13, 27, 41,  4,  1, 16, 23, 11, 23, 75, 13, 16, 23, 20],\n       [11, 34, 73, 13, 41, 23, 11, 13, 26, 34, 20, 23, 13, 26, 41, 71],\n       [34, 11, 23, 63, 28, 28, 53, 35, 71, 12, 23, 13, 60, 34, 80, 13],\n       [71,  1, 13, 67, 34, 73, 16,  0, 23, 26, 23,  0, 60, 13, 71,  0],\n       [13, 46,  0, 23, 77, 23, 60, 13, 46,  0, 23, 77, 71, 20, 75, 11],\n       [71, 75, 13, 81, 23,  0, 26, 13, 71, 26, 13,  4, 26, 63, 13, 35],\n       [13, 26, 41, 23, 13,  0, 71,  1, 26, 13,  0,  4, 20, 23, 50, 13],\n       [13, 27, 41,  4, 67, 41, 13, 67, 41,  4,  0, 75, 11, 23, 20, 13],\n       [ 4, 12, 23, 13, 26, 11,  4, 51, 23,  1, 13, 81, 11, 34, 73, 13],\n       [42, 41, 26, 13, 26, 34, 13, 51, 23, 13, 16, 11, 23, 16, 71, 11],\n       [71, 20, 13, 42, 34, 50, 13, 71, 20, 75, 13, 27, 23, 13, 67, 71],\n       [23, 13,  1,  4, 42, 20,  4, 81,  4, 67, 71, 20, 67, 23, 13, 34],\n       [23, 77, 23, 60, 13, 46,  0, 23, 77, 71, 20, 75, 11, 34, 12,  4],\n       [71, 20, 20, 34, 26, 13, 69, 80,  4, 26, 23, 13, 71, 42, 11, 23],\n       [80,  0, 75, 13, 20, 34, 26, 13, 51, 23, 50, 13, 71, 20, 75, 13],\n       [13, 81, 34, 11, 13, 73, 60, 13,  1,  4,  1, 26, 23, 11, 13, 71],\n       [13, 16, 11,  4, 23,  1, 26, 13, 26, 80, 11, 20, 23, 75, 13, 26],\n       [11, 26,  4,  1, 26,  4, 67, 13,  1, 23, 20,  1, 23, 13, 27, 71],\n       [71, 26, 13,  4, 20,  1, 26, 71, 20, 26, 28, 71, 67, 11, 34,  1],\n       [26, 34, 13, 41,  4, 73, 50, 13,  4, 81, 13, 20, 34, 26, 13, 75],\n       [13,  1,  4, 20, 42,  0, 23, 13,  4, 20,  1, 26, 71, 20, 26, 50],\n       [16, 80, 26, 26,  4, 20, 42, 13, 41,  4,  1, 13, 41, 71, 26, 13],\n       [41, 23, 20, 13, 81, 34, 11, 13, 73, 23, 13, 26, 41, 23, 11, 23],\n       [34, 11, 28, 73, 60,  1, 23,  0, 81, 13, 20, 34, 27, 50, 53, 13],\n       [73, 23, 56, 13, 44, 34, 11, 13, 34, 20, 23, 13, 75, 71, 60, 13],\n       [71,  0, 34, 20, 23, 63, 63, 63, 63, 13, 54, 80, 26, 13, 27, 23]])"
     },
     "execution_count": 25,
     "metadata": {},
     "output_type": "execute_result"
    }
   ],
   "source": [
    "y"
   ]
  },
  {
   "cell_type": "code",
   "execution_count": 26,
   "id": "e269196d",
   "metadata": {},
   "outputs": [],
   "source": [
    "def one_hot_encode(arr, n_labels):\n",
    "    \n",
    "    # Initialize the the encoded array\n",
    "    one_hot = np.zeros((arr.size, n_labels), dtype=np.float32)\n",
    "    \n",
    "    # Fill the appropriate elements with ones\n",
    "    one_hot[np.arange(one_hot.shape[0]), arr.flatten()] = 1.\n",
    "    \n",
    "    # Finally reshape it to get back to the original array\n",
    "    one_hot = one_hot.reshape((*arr.shape, n_labels))\n",
    "    \n",
    "    return one_hot"
   ]
  },
  {
   "cell_type": "code",
   "execution_count": 27,
   "id": "50d73eaa",
   "metadata": {},
   "outputs": [
    {
     "data": {
      "text/plain": "83"
     },
     "execution_count": 27,
     "metadata": {},
     "output_type": "execute_result"
    }
   ],
   "source": [
    "len(unique_chars)"
   ]
  },
  {
   "cell_type": "code",
   "execution_count": 28,
   "id": "38bc68c2",
   "metadata": {},
   "outputs": [],
   "source": [
    "#X_ = one_hot_convert(X, 90)\n",
    "X_ = one_hot_encode(X, len(unique_chars))"
   ]
  },
  {
   "cell_type": "code",
   "execution_count": 29,
   "id": "8a157cb1",
   "metadata": {},
   "outputs": [
    {
     "data": {
      "text/plain": "(32, 16)"
     },
     "execution_count": 29,
     "metadata": {},
     "output_type": "execute_result"
    }
   ],
   "source": [
    "X.shape"
   ]
  },
  {
   "cell_type": "code",
   "execution_count": 30,
   "id": "59a5fbcf",
   "metadata": {},
   "outputs": [
    {
     "data": {
      "text/plain": "(32, 16, 83)"
     },
     "execution_count": 30,
     "metadata": {},
     "output_type": "execute_result"
    }
   ],
   "source": [
    "X_.shape"
   ]
  },
  {
   "cell_type": "markdown",
   "id": "994adf7b",
   "metadata": {},
   "source": [
    "\\begin{array}{ll} \\\\\n",
    "        i_t = \\sigma(W_{ii} x_t + b_{ii} + W_{hi} h_{t-1} + b_{hi}) \\\\\n",
    "        f_t = \\sigma(W_{if} x_t + b_{if} + W_{hf} h_{t-1} + b_{hf}) \\\\\n",
    "        g_t = \\tanh(W_{ig} x_t + b_{ig} + W_{hg} h_{t-1} + b_{hg}) \\\\\n",
    "        o_t = \\sigma(W_{io} x_t + b_{io} + W_{ho} h_{t-1} + b_{ho}) \\\\\n",
    "        c_t = f_t \\odot c_{t-1} + i_t \\odot g_t \\\\\n",
    "        h_t = o_t \\odot \\tanh(c_t) \\\\\n",
    "    \\end{array}"
   ]
  },
  {
   "cell_type": "code",
   "execution_count": 32,
   "id": "958d85dc",
   "metadata": {},
   "outputs": [],
   "source": [
    "def get_text(fpath, start_page = 1):\n",
    "    with open(fpath, \"rb\") as f:\n",
    "        pdf = PyPDF3.PdfFileReader(f)\n",
    "        text = str()\n",
    "        for page_num in range(start_page-1, pdf.numPages):\n",
    "            page = pdf.getPage(page_num)\n",
    "            text = text + ' ' + page.extractText()\n",
    "    return text.lower()"
   ]
  },
  {
   "cell_type": "code",
   "execution_count": 33,
   "id": "1c34aad4",
   "metadata": {},
   "outputs": [
    {
     "data": {
      "text/plain": "1588178"
     },
     "execution_count": 33,
     "metadata": {},
     "output_type": "execute_result"
    }
   ],
   "source": [
    "len(text)"
   ]
  },
  {
   "cell_type": "code",
   "execution_count": 34,
   "id": "a196efee",
   "metadata": {},
   "outputs": [
    {
     "data": {
      "text/plain": "397045"
     },
     "execution_count": 34,
     "metadata": {},
     "output_type": "execute_result"
    }
   ],
   "source": [
    "len(val_text)"
   ]
  },
  {
   "cell_type": "code",
   "execution_count": 35,
   "id": "0175c9e9",
   "metadata": {},
   "outputs": [
    {
     "name": "stdout",
     "output_type": "stream",
     "text": [
      "at it may be, but still it ought to be treated a little more\n",
      "respectfully. Snetkov, now.... We may be of use, or we may not, but\n",
      "we're the growth of a thousand years. If we're laying out a garden,\n",
      "planning one before the house, you know, and there you've a tree that's\n",
      "stood for centuries in the very spot.... Old and gnarled it may be, and\n",
      "yet you don't cut down the old fellow to make room for the flowerbeds,\n",
      "but lay out your beds so as to take advantage of the tree. You won't\n",
      "grow him again in a year,\" he said cautiously, and he immediately\n",
      "changed the conversation. \"Well, and how is your land doing?\"\n",
      "\n",
      "\"Oh, not very well. I make five per cent.\"\n",
      "\n",
      "\"Yes, but you don't reckon your own work. Aren't you worth something\n",
      "too? I'll tell you my own case. Before I took to seeing after the land,\n",
      "I had a salary of three hundred pounds from the service. Now I do more\n",
      "work than I did in the service, and like you I get five per cent. on the\n",
      "land, and thank God for that. But one's work is thrown in for\n"
     ]
    }
   ],
   "source": [
    "print(val_text[:1000])"
   ]
  },
  {
   "cell_type": "code",
   "execution_count": 36,
   "id": "6a13fa73",
   "metadata": {},
   "outputs": [],
   "source": [
    "### Encode validation data\n",
    "encoding_results = encode_text(val_text, unique_chars)\n",
    "encoded_val = encoding_results.encoded_text"
   ]
  },
  {
   "cell_type": "code",
   "execution_count": 37,
   "id": "aa2cc040",
   "metadata": {},
   "outputs": [
    {
     "data": {
      "text/plain": "83"
     },
     "execution_count": 37,
     "metadata": {},
     "output_type": "execute_result"
    }
   ],
   "source": [
    "unique_char = encoding_results.unique_char\n",
    "len(unique_char)"
   ]
  },
  {
   "cell_type": "markdown",
   "id": "7a6efab6",
   "metadata": {},
   "source": [
    "\\begin{aligned}\n",
    " |              N ={} & \\text{batch size} \\\\\n",
    " |              L ={} & \\text{sequence length} \\\\\n",
    " |              D ={} & 2 \\text{ if bidirectional=True otherwise } 1 \\\\\n",
    " |              H_{in} ={} & \\text{input\\_size} \\\\\n",
    " |              H_{cell} ={} & \\text{hidden\\_size} \\\\\n",
    " |              H_{out} ={} & \\text{proj\\_size if } \\text{proj\\_size}>0 \\text{ otherwise hidden\\_size} \\\\\n",
    " |          \\end{aligned}"
   ]
  },
  {
   "cell_type": "code",
   "execution_count": 38,
   "id": "5c2b11fc",
   "metadata": {},
   "outputs": [],
   "source": [
    "class CharRNN(nn.Module):\n",
    "    \"\"\"\n",
    "    Character-level LSTM.\n",
    "    \n",
    "    Parameters\n",
    "    ----------\n",
    "    input_size:\n",
    "        Input (feature sze) for RNN.\n",
    "    output_size:\n",
    "        Input (feature sze) for RNN.\n",
    "    hidden_size:\n",
    "        Number of output features for RNN.\n",
    "    dropout_rate:\n",
    "        Dropout probability for RNN.\n",
    "    batch_size:\n",
    "        Number of sequences in a batch.\n",
    "    D:\n",
    "        Number of directions: uni- or bidirectional architecture for RNN.\n",
    "    num_layers:\n",
    "        Number of RNN stacks.\n",
    "    batch_size:\n",
    "        Number of sequences in a batch.\n",
    "    \n",
    "    Returns\n",
    "    -------\n",
    "    output:\n",
    "        Shape: [batch_size, sequence_length, num_features]\n",
    "    hidden_state:\n",
    "        Tuple containing:\n",
    "        - Short-term hidden state\n",
    "            Shape: [batch_size, sequence_length, num_features]\n",
    "        - Cell state\n",
    "            Shape: [batch_size, sequence_length, num_features]\n",
    "    \n",
    "    \"\"\"\n",
    "    def __init__(self, input_size = 32, hidden_size = 128, dropout = 0.25,\n",
    "                 batch_size = 32, D = 1, num_layers = 2, output_size = 32, base_rnn = nn.LSTM):\n",
    "        \n",
    "        super(CharRNN, self).__init__()\n",
    "        \n",
    "        self.base_rnn = base_rnn\n",
    "        self.input_size = input_size\n",
    "        self.output_size = output_size\n",
    "        self.hidden_size = hidden_size\n",
    "        self.dropout_rate = dropout\n",
    "        self.num_layers = num_layers\n",
    "        self.batch_size = batch_size\n",
    "        self.D = D\n",
    "        \n",
    "        self.rnn = self.base_rnn(input_size = self.input_size, hidden_size = self.hidden_size,\n",
    "                                dropout = self.dropout_rate, batch_first = True,\n",
    "                                bidirectional = True if self.D == 2 else False, bias = True,\n",
    "                                num_layers = self.num_layers)\n",
    "        \n",
    "        self.dropout = nn.Dropout(p = self.dropout_rate)\n",
    "        self.fc = nn.Linear(self.D*self.hidden_size, self.output_size)\n",
    "        \n",
    "    def forward(self, x, hidden_state):\n",
    "        outputs, hidden_state = self.rnn(x, hidden_state)\n",
    "        outputs = self.dropout(outputs)\n",
    "        outputs = outputs.contiguous().view(-1, self.D*self.hidden_size)\n",
    "        outputs = self.fc(outputs)\n",
    "        \n",
    "        return outputs, hidden_state\n",
    "    \n",
    "    def init_hidden_state(self, mean = 0, stddev = 0):\n",
    "        \"\"\"\n",
    "        Initialize hidden state and context tensors.\n",
    "        \"\"\"\n",
    "        h = torch.distributions.Normal(mean, stddev).sample((self.D*self.num_layers, self.batch_size, self.hidden_size))\n",
    "        h = h.to(device)\n",
    "        \n",
    "        if self.base_rnn == nn.LSTM:\n",
    "            c = torch.distributions.Normal(mean, stddev).sample((self.D*self.num_layers, self.batch_size, self.hidden_size))\n",
    "            c = c.to(device)\n",
    "            h = (h, c)\n",
    "        \n",
    "        return h"
   ]
  },
  {
   "cell_type": "code",
   "execution_count": 39,
   "id": "6fd1e3e6",
   "metadata": {},
   "outputs": [],
   "source": [
    "batch_size = 128\n",
    "seq_length = 100\n",
    "num_layers = 2\n",
    "hidden_size = 512\n",
    "\n",
    "max_norm = 5\n",
    "epochs = 30\n",
    "lr = 1e-3"
   ]
  },
  {
   "cell_type": "code",
   "execution_count": 40,
   "id": "fc5a71f7",
   "metadata": {},
   "outputs": [],
   "source": [
    "model = CharRNN(D = 1, dropout = 0.5, num_layers = num_layers, base_rnn = nn.RNN,\n",
    "                batch_size = batch_size, hidden_size = hidden_size,\n",
    "                input_size = len(unique_char), output_size = len(unique_char)).to(device)"
   ]
  },
  {
   "cell_type": "code",
   "execution_count": 41,
   "id": "96b1a851",
   "metadata": {},
   "outputs": [
    {
     "name": "stdout",
     "output_type": "stream",
     "text": [
      "CharRNN(\n",
      "  (rnn): RNN(83, 512, num_layers=2, batch_first=True, dropout=0.5)\n",
      "  (dropout): Dropout(p=0.5, inplace=False)\n",
      "  (fc): Linear(in_features=512, out_features=83, bias=True)\n",
      ")\n"
     ]
    }
   ],
   "source": [
    "print(model)"
   ]
  },
  {
   "cell_type": "code",
   "execution_count": 42,
   "id": "ae52851d",
   "metadata": {},
   "outputs": [],
   "source": [
    "### Objective functions and optimizer\n",
    "opt = optim.Adam(model.parameters(), lr = lr)\n",
    "criterion = nn.CrossEntropyLoss()"
   ]
  },
  {
   "cell_type": "code",
   "execution_count": 43,
   "id": "f7b8bcaa",
   "metadata": {},
   "outputs": [
    {
     "data": {
      "text/plain": "0"
     },
     "execution_count": 43,
     "metadata": {},
     "output_type": "execute_result"
    }
   ],
   "source": [
    "gc.collect()"
   ]
  },
  {
   "cell_type": "code",
   "execution_count": 44,
   "id": "80111487",
   "metadata": {},
   "outputs": [],
   "source": [
    "### Train data\n",
    "_, num_batches = batch_sequence(encoded_text, batch_size, seq_length)"
   ]
  },
  {
   "cell_type": "code",
   "execution_count": 45,
   "id": "aa9b3f11",
   "metadata": {},
   "outputs": [],
   "source": [
    "### Validation data\n",
    "_, num_batches_ = batch_sequence(encoded_val, batch_size, seq_length)"
   ]
  },
  {
   "cell_type": "code",
   "execution_count": 46,
   "id": "4441ab07",
   "metadata": {},
   "outputs": [
    {
     "name": "stdout",
     "output_type": "stream",
     "text": [
      "124\n"
     ]
    }
   ],
   "source": [
    "### Num of train batches\n",
    "print(num_batches)"
   ]
  },
  {
   "cell_type": "code",
   "execution_count": 47,
   "id": "7672d843",
   "metadata": {},
   "outputs": [
    {
     "name": "stdout",
     "output_type": "stream",
     "text": [
      "31\n"
     ]
    }
   ],
   "source": [
    "### Num of valid batches\n",
    "print(num_batches_)"
   ]
  },
  {
   "cell_type": "code",
   "execution_count": 48,
   "id": "bab990cc",
   "metadata": {
    "scrolled": true
   },
   "outputs": [
    {
     "name": "stdout",
     "output_type": "stream",
     "text": [
      "================================================================================\n",
      "\n",
      "Epoch: 1/30, Iteration 20/124, Train Loss: 3.4042, Valid Loss: 3.1245\n",
      "================================================================================\n",
      "\n",
      "Epoch: 1/30, Iteration 40/124, Train Loss: 3.2681, Valid Loss: 3.2693\n",
      "================================================================================\n",
      "\n",
      "Epoch: 1/30, Iteration 60/124, Train Loss: 3.1665, Valid Loss: 2.7721\n",
      "================================================================================\n",
      "\n",
      "Epoch: 1/30, Iteration 80/124, Train Loss: 3.0385, Valid Loss: 2.5135\n",
      "================================================================================\n",
      "\n",
      "Epoch: 1/30, Iteration 100/124, Train Loss: 2.9238, Valid Loss: 2.3966\n",
      "================================================================================\n",
      "\n",
      "Epoch: 1/30, Iteration 120/124, Train Loss: 2.8324, Valid Loss: 2.3241\n",
      "================================================================================\n",
      "\n",
      "Epoch: 1/30, Iteration 124/124, Train Loss: 2.8161, Valid Loss: 2.3137\n",
      "\n",
      "================================================================================\n",
      "================================================================================\n",
      "================================================================================\n",
      "================================================================================\n",
      "\n",
      "Epoch: 2/30, Iteration 20/124, Train Loss: 2.3062, Valid Loss: 2.2669\n",
      "================================================================================\n",
      "\n",
      "Epoch: 2/30, Iteration 40/124, Train Loss: 2.2803, Valid Loss: 2.2245\n",
      "================================================================================\n",
      "\n",
      "Epoch: 2/30, Iteration 60/124, Train Loss: 2.2610, Valid Loss: 2.1876\n",
      "================================================================================\n",
      "\n",
      "Epoch: 2/30, Iteration 80/124, Train Loss: 2.2423, Valid Loss: 2.1504\n",
      "================================================================================\n",
      "\n",
      "Epoch: 2/30, Iteration 100/124, Train Loss: 2.2266, Valid Loss: 2.1161\n",
      "================================================================================\n",
      "\n",
      "Epoch: 2/30, Iteration 120/124, Train Loss: 2.2106, Valid Loss: 2.0850\n",
      "================================================================================\n",
      "\n",
      "Epoch: 2/30, Iteration 124/124, Train Loss: 2.2070, Valid Loss: 2.0787\n",
      "\n",
      "================================================================================\n",
      "================================================================================\n",
      "================================================================================\n",
      "================================================================================\n",
      "\n",
      "Epoch: 3/30, Iteration 20/124, Train Loss: 2.0985, Valid Loss: 2.0481\n",
      "================================================================================\n",
      "\n",
      "Epoch: 3/30, Iteration 40/124, Train Loss: 2.0795, Valid Loss: 2.0193\n",
      "================================================================================\n",
      "\n",
      "Epoch: 3/30, Iteration 60/124, Train Loss: 2.0678, Valid Loss: 1.9986\n",
      "================================================================================\n",
      "\n",
      "Epoch: 3/30, Iteration 80/124, Train Loss: 2.0561, Valid Loss: 1.9681\n",
      "================================================================================\n",
      "\n",
      "Epoch: 3/30, Iteration 100/124, Train Loss: 2.0463, Valid Loss: 1.9424\n",
      "================================================================================\n",
      "\n",
      "Epoch: 3/30, Iteration 120/124, Train Loss: 2.0351, Valid Loss: 1.9220\n",
      "================================================================================\n",
      "\n",
      "Epoch: 3/30, Iteration 124/124, Train Loss: 2.0325, Valid Loss: 1.9199\n",
      "\n",
      "================================================================================\n",
      "================================================================================\n",
      "================================================================================\n",
      "================================================================================\n",
      "\n",
      "Epoch: 4/30, Iteration 20/124, Train Loss: 1.9603, Valid Loss: 1.9053\n",
      "================================================================================\n",
      "\n",
      "Epoch: 4/30, Iteration 40/124, Train Loss: 1.9453, Valid Loss: 1.8802\n",
      "================================================================================\n",
      "\n",
      "Epoch: 4/30, Iteration 60/124, Train Loss: 1.9374, Valid Loss: 1.8623\n",
      "================================================================================\n",
      "\n",
      "Epoch: 4/30, Iteration 80/124, Train Loss: 1.9301, Valid Loss: 1.8460\n",
      "================================================================================\n",
      "\n",
      "Epoch: 4/30, Iteration 100/124, Train Loss: 1.9240, Valid Loss: 1.8263\n",
      "================================================================================\n",
      "\n",
      "Epoch: 4/30, Iteration 120/124, Train Loss: 1.9162, Valid Loss: 1.8153\n",
      "================================================================================\n",
      "\n",
      "Epoch: 4/30, Iteration 124/124, Train Loss: 1.9141, Valid Loss: 1.8121\n",
      "\n",
      "================================================================================\n",
      "================================================================================\n",
      "================================================================================\n",
      "================================================================================\n",
      "\n",
      "Epoch: 5/30, Iteration 20/124, Train Loss: 1.8676, Valid Loss: 1.8011\n",
      "================================================================================\n",
      "\n",
      "Epoch: 5/30, Iteration 40/124, Train Loss: 1.8539, Valid Loss: 1.7837\n",
      "================================================================================\n",
      "\n",
      "Epoch: 5/30, Iteration 60/124, Train Loss: 1.8486, Valid Loss: 1.7753\n",
      "================================================================================\n",
      "\n",
      "Epoch: 5/30, Iteration 80/124, Train Loss: 1.8440, Valid Loss: 1.7602\n",
      "================================================================================\n",
      "\n",
      "Epoch: 5/30, Iteration 100/124, Train Loss: 1.8402, Valid Loss: 1.7489\n",
      "================================================================================\n",
      "\n",
      "Epoch: 5/30, Iteration 120/124, Train Loss: 1.8344, Valid Loss: 1.7408\n",
      "================================================================================\n",
      "\n",
      "Epoch: 5/30, Iteration 124/124, Train Loss: 1.8328, Valid Loss: 1.7378\n",
      "\n",
      "================================================================================\n",
      "================================================================================\n",
      "================================================================================\n",
      "================================================================================\n",
      "\n",
      "Epoch: 6/30, Iteration 20/124, Train Loss: 1.8008, Valid Loss: 1.7322\n",
      "================================================================================\n",
      "\n",
      "Epoch: 6/30, Iteration 40/124, Train Loss: 1.7891, Valid Loss: 1.7184\n",
      "================================================================================\n",
      "\n",
      "Epoch: 6/30, Iteration 60/124, Train Loss: 1.7849, Valid Loss: 1.7115\n",
      "================================================================================\n",
      "\n",
      "Epoch: 6/30, Iteration 80/124, Train Loss: 1.7814, Valid Loss: 1.7001\n",
      "================================================================================\n",
      "\n",
      "Epoch: 6/30, Iteration 100/124, Train Loss: 1.7793, Valid Loss: 1.6919\n",
      "================================================================================\n",
      "\n",
      "Epoch: 6/30, Iteration 120/124, Train Loss: 1.7750, Valid Loss: 1.6871\n",
      "================================================================================\n",
      "\n",
      "Epoch: 6/30, Iteration 124/124, Train Loss: 1.7736, Valid Loss: 1.6863\n",
      "\n",
      "================================================================================\n",
      "================================================================================\n",
      "================================================================================\n",
      "================================================================================\n",
      "\n",
      "Epoch: 7/30, Iteration 20/124, Train Loss: 1.7479, Valid Loss: 1.6799\n",
      "================================================================================\n",
      "\n",
      "Epoch: 7/30, Iteration 40/124, Train Loss: 1.7383, Valid Loss: 1.6690\n",
      "================================================================================\n",
      "\n",
      "Epoch: 7/30, Iteration 60/124, Train Loss: 1.7354, Valid Loss: 1.6613\n",
      "================================================================================\n",
      "\n",
      "Epoch: 7/30, Iteration 80/124, Train Loss: 1.7337, Valid Loss: 1.6554\n",
      "================================================================================\n",
      "\n",
      "Epoch: 7/30, Iteration 100/124, Train Loss: 1.7326, Valid Loss: 1.6514\n",
      "================================================================================\n",
      "\n",
      "Epoch: 7/30, Iteration 120/124, Train Loss: 1.7290, Valid Loss: 1.6515\n",
      "================================================================================\n",
      "\n",
      "Epoch: 7/30, Iteration 124/124, Train Loss: 1.7279, Valid Loss: 1.6544\n",
      "\n",
      "================================================================================\n",
      "================================================================================\n",
      "================================================================================\n",
      "================================================================================\n",
      "\n",
      "Epoch: 8/30, Iteration 20/124, Train Loss: 1.7149, Valid Loss: 1.6436\n",
      "================================================================================\n",
      "\n",
      "Epoch: 8/30, Iteration 40/124, Train Loss: 1.7034, Valid Loss: 1.6373\n",
      "================================================================================\n",
      "\n",
      "Epoch: 8/30, Iteration 60/124, Train Loss: 1.7014, Valid Loss: 1.6287\n",
      "================================================================================\n",
      "\n",
      "Epoch: 8/30, Iteration 80/124, Train Loss: 1.6999, Valid Loss: 1.6246\n",
      "================================================================================\n",
      "\n",
      "Epoch: 8/30, Iteration 100/124, Train Loss: 1.6998, Valid Loss: 1.6211\n",
      "================================================================================\n",
      "\n",
      "Epoch: 8/30, Iteration 120/124, Train Loss: 1.6966, Valid Loss: 1.6168\n",
      "================================================================================\n",
      "\n",
      "Epoch: 8/30, Iteration 124/124, Train Loss: 1.6956, Valid Loss: 1.6125\n",
      "\n",
      "================================================================================\n",
      "================================================================================\n",
      "================================================================================\n",
      "================================================================================\n",
      "\n",
      "Epoch: 9/30, Iteration 20/124, Train Loss: 1.6805, Valid Loss: 1.6147\n",
      "================================================================================\n",
      "\n",
      "Epoch: 9/30, Iteration 40/124, Train Loss: 1.6721, Valid Loss: 1.6078\n",
      "================================================================================\n",
      "\n",
      "Epoch: 9/30, Iteration 60/124, Train Loss: 1.6703, Valid Loss: 1.6005\n",
      "================================================================================\n",
      "\n",
      "Epoch: 9/30, Iteration 80/124, Train Loss: 1.6699, Valid Loss: 1.5993\n",
      "================================================================================\n",
      "\n",
      "Epoch: 9/30, Iteration 100/124, Train Loss: 1.6697, Valid Loss: 1.5977\n",
      "================================================================================\n",
      "\n",
      "Epoch: 9/30, Iteration 120/124, Train Loss: 1.6669, Valid Loss: 1.5939\n",
      "================================================================================\n",
      "\n",
      "Epoch: 9/30, Iteration 124/124, Train Loss: 1.6660, Valid Loss: 1.5852\n",
      "\n",
      "================================================================================\n",
      "================================================================================\n",
      "================================================================================\n",
      "================================================================================\n",
      "\n",
      "Epoch: 10/30, Iteration 20/124, Train Loss: 1.6561, Valid Loss: 1.5894\n",
      "================================================================================\n",
      "\n",
      "Epoch: 10/30, Iteration 40/124, Train Loss: 1.6459, Valid Loss: 1.5837\n",
      "================================================================================\n",
      "\n",
      "Epoch: 10/30, Iteration 60/124, Train Loss: 1.6451, Valid Loss: 1.5789\n",
      "================================================================================\n",
      "\n",
      "Epoch: 10/30, Iteration 80/124, Train Loss: 1.6455, Valid Loss: 1.5763\n",
      "================================================================================\n",
      "\n",
      "Epoch: 10/30, Iteration 100/124, Train Loss: 1.6458, Valid Loss: 1.5732\n",
      "================================================================================\n",
      "\n",
      "Epoch: 10/30, Iteration 120/124, Train Loss: 1.6438, Valid Loss: 1.5714\n",
      "================================================================================\n",
      "\n",
      "Epoch: 10/30, Iteration 124/124, Train Loss: 1.6430, Valid Loss: 1.5686\n",
      "\n",
      "================================================================================\n",
      "================================================================================\n",
      "================================================================================\n",
      "================================================================================\n",
      "\n",
      "Epoch: 11/30, Iteration 20/124, Train Loss: 1.6333, Valid Loss: 1.5716\n",
      "================================================================================\n",
      "\n",
      "Epoch: 11/30, Iteration 40/124, Train Loss: 1.6258, Valid Loss: 1.5656\n",
      "================================================================================\n",
      "\n",
      "Epoch: 11/30, Iteration 60/124, Train Loss: 1.6250, Valid Loss: 1.5606\n",
      "================================================================================\n",
      "\n",
      "Epoch: 11/30, Iteration 80/124, Train Loss: 1.6258, Valid Loss: 1.5584\n",
      "================================================================================\n",
      "\n",
      "Epoch: 11/30, Iteration 100/124, Train Loss: 1.6262, Valid Loss: 1.5605\n",
      "================================================================================\n",
      "\n",
      "Epoch: 11/30, Iteration 120/124, Train Loss: 1.6243, Valid Loss: 1.5556\n",
      "================================================================================\n",
      "\n",
      "Epoch: 11/30, Iteration 124/124, Train Loss: 1.6234, Valid Loss: 1.5526\n",
      "\n",
      "================================================================================\n",
      "================================================================================\n",
      "================================================================================\n",
      "================================================================================\n",
      "\n",
      "Epoch: 12/30, Iteration 20/124, Train Loss: 1.6169, Valid Loss: 1.5552\n",
      "================================================================================\n",
      "\n",
      "Epoch: 12/30, Iteration 40/124, Train Loss: 1.6083, Valid Loss: 1.5510\n",
      "================================================================================\n",
      "\n",
      "Epoch: 12/30, Iteration 60/124, Train Loss: 1.6085, Valid Loss: 1.5454\n",
      "================================================================================\n",
      "\n",
      "Epoch: 12/30, Iteration 80/124, Train Loss: 1.6093, Valid Loss: 1.5447\n",
      "================================================================================\n",
      "\n",
      "Epoch: 12/30, Iteration 100/124, Train Loss: 1.6103, Valid Loss: 1.5434\n",
      "================================================================================\n",
      "\n",
      "Epoch: 12/30, Iteration 120/124, Train Loss: 1.6084, Valid Loss: 1.5382\n",
      "================================================================================\n",
      "\n",
      "Epoch: 12/30, Iteration 124/124, Train Loss: 1.6076, Valid Loss: 1.5383\n",
      "\n",
      "================================================================================\n",
      "================================================================================\n",
      "================================================================================\n",
      "================================================================================\n",
      "\n",
      "Epoch: 13/30, Iteration 20/124, Train Loss: 1.6041, Valid Loss: 1.5412\n",
      "================================================================================\n",
      "\n",
      "Epoch: 13/30, Iteration 40/124, Train Loss: 1.5941, Valid Loss: 1.5350\n",
      "================================================================================\n",
      "\n",
      "Epoch: 13/30, Iteration 60/124, Train Loss: 1.5944, Valid Loss: 1.5337\n",
      "================================================================================\n",
      "\n",
      "Epoch: 13/30, Iteration 80/124, Train Loss: 1.5957, Valid Loss: 1.5332\n",
      "================================================================================\n",
      "\n",
      "Epoch: 13/30, Iteration 100/124, Train Loss: 1.5964, Valid Loss: 1.5312\n",
      "================================================================================\n",
      "\n",
      "Epoch: 13/30, Iteration 120/124, Train Loss: 1.5952, Valid Loss: 1.5281\n",
      "================================================================================\n",
      "\n",
      "Epoch: 13/30, Iteration 124/124, Train Loss: 1.5946, Valid Loss: 1.5282\n",
      "\n",
      "================================================================================\n",
      "================================================================================\n",
      "================================================================================\n",
      "================================================================================\n",
      "\n",
      "Epoch: 14/30, Iteration 20/124, Train Loss: 1.5907, Valid Loss: 1.5307\n",
      "================================================================================\n",
      "\n",
      "Epoch: 14/30, Iteration 40/124, Train Loss: 1.5816, Valid Loss: 1.5254\n",
      "================================================================================\n",
      "\n",
      "Epoch: 14/30, Iteration 60/124, Train Loss: 1.5812, Valid Loss: 1.5238\n",
      "================================================================================\n",
      "\n",
      "Epoch: 14/30, Iteration 80/124, Train Loss: 1.5822, Valid Loss: 1.5211\n",
      "================================================================================\n",
      "\n",
      "Epoch: 14/30, Iteration 100/124, Train Loss: 1.5829, Valid Loss: 1.5195\n",
      "================================================================================\n",
      "\n",
      "Epoch: 14/30, Iteration 120/124, Train Loss: 1.5817, Valid Loss: 1.5162\n",
      "================================================================================\n",
      "\n",
      "Epoch: 14/30, Iteration 124/124, Train Loss: 1.5810, Valid Loss: 1.5152\n",
      "\n",
      "================================================================================\n",
      "================================================================================\n",
      "================================================================================\n",
      "================================================================================\n",
      "\n",
      "Epoch: 15/30, Iteration 20/124, Train Loss: 1.5794, Valid Loss: 1.5165\n",
      "================================================================================\n",
      "\n",
      "Epoch: 15/30, Iteration 40/124, Train Loss: 1.5702, Valid Loss: 1.5151\n",
      "================================================================================\n",
      "\n",
      "Epoch: 15/30, Iteration 60/124, Train Loss: 1.5711, Valid Loss: 1.5149\n",
      "================================================================================\n",
      "\n",
      "Epoch: 15/30, Iteration 80/124, Train Loss: 1.5721, Valid Loss: 1.5124\n",
      "================================================================================\n",
      "\n",
      "Epoch: 15/30, Iteration 100/124, Train Loss: 1.5731, Valid Loss: 1.5113\n",
      "================================================================================\n",
      "\n",
      "Epoch: 15/30, Iteration 120/124, Train Loss: 1.5717, Valid Loss: 1.5074\n",
      "================================================================================\n",
      "\n",
      "Epoch: 15/30, Iteration 124/124, Train Loss: 1.5710, Valid Loss: 1.5069\n",
      "\n",
      "================================================================================\n",
      "================================================================================\n",
      "================================================================================\n",
      "================================================================================\n",
      "\n",
      "Epoch: 16/30, Iteration 20/124, Train Loss: 1.5675, Valid Loss: 1.5141\n",
      "================================================================================\n",
      "\n",
      "Epoch: 16/30, Iteration 40/124, Train Loss: 1.5592, Valid Loss: 1.5072\n",
      "================================================================================\n",
      "\n",
      "Epoch: 16/30, Iteration 60/124, Train Loss: 1.5604, Valid Loss: 1.5069\n",
      "================================================================================\n",
      "\n",
      "Epoch: 16/30, Iteration 80/124, Train Loss: 1.5618, Valid Loss: 1.5072\n",
      "================================================================================\n",
      "\n",
      "Epoch: 16/30, Iteration 100/124, Train Loss: 1.5631, Valid Loss: 1.5035\n",
      "================================================================================\n",
      "\n",
      "Epoch: 16/30, Iteration 120/124, Train Loss: 1.5620, Valid Loss: 1.5000\n",
      "================================================================================\n",
      "\n",
      "Epoch: 16/30, Iteration 124/124, Train Loss: 1.5614, Valid Loss: 1.5014\n",
      "\n",
      "================================================================================\n",
      "================================================================================\n",
      "================================================================================\n",
      "================================================================================\n",
      "\n",
      "Epoch: 17/30, Iteration 20/124, Train Loss: 1.5576, Valid Loss: 1.5012\n",
      "================================================================================\n",
      "\n",
      "Epoch: 17/30, Iteration 40/124, Train Loss: 1.5493, Valid Loss: 1.5015\n",
      "================================================================================\n",
      "\n",
      "Epoch: 17/30, Iteration 60/124, Train Loss: 1.5499, Valid Loss: 1.4979\n",
      "================================================================================\n",
      "\n",
      "Epoch: 17/30, Iteration 80/124, Train Loss: 1.5516, Valid Loss: 1.4965\n",
      "================================================================================\n",
      "\n",
      "Epoch: 17/30, Iteration 100/124, Train Loss: 1.5531, Valid Loss: 1.4977\n",
      "================================================================================\n",
      "\n",
      "Epoch: 17/30, Iteration 120/124, Train Loss: 1.5521, Valid Loss: 1.4940\n",
      "================================================================================\n",
      "\n",
      "Epoch: 17/30, Iteration 124/124, Train Loss: 1.5514, Valid Loss: 1.4953\n",
      "\n",
      "================================================================================\n",
      "================================================================================\n",
      "================================================================================\n",
      "================================================================================\n",
      "\n",
      "Epoch: 18/30, Iteration 20/124, Train Loss: 1.5502, Valid Loss: 1.4975\n",
      "================================================================================\n",
      "\n",
      "Epoch: 18/30, Iteration 40/124, Train Loss: 1.5431, Valid Loss: 1.4941\n",
      "================================================================================\n",
      "\n",
      "Epoch: 18/30, Iteration 60/124, Train Loss: 1.5447, Valid Loss: 1.4953\n",
      "================================================================================\n",
      "\n",
      "Epoch: 18/30, Iteration 80/124, Train Loss: 1.5464, Valid Loss: 1.4931\n",
      "================================================================================\n",
      "\n",
      "Epoch: 18/30, Iteration 100/124, Train Loss: 1.5474, Valid Loss: 1.4925\n",
      "================================================================================\n",
      "\n",
      "Epoch: 18/30, Iteration 120/124, Train Loss: 1.5464, Valid Loss: 1.4885\n",
      "================================================================================\n",
      "\n",
      "Epoch: 18/30, Iteration 124/124, Train Loss: 1.5458, Valid Loss: 1.4904\n",
      "\n",
      "================================================================================\n",
      "================================================================================\n",
      "================================================================================\n",
      "================================================================================\n",
      "\n",
      "Epoch: 19/30, Iteration 20/124, Train Loss: 1.5436, Valid Loss: 1.4886\n",
      "================================================================================\n",
      "\n",
      "Epoch: 19/30, Iteration 40/124, Train Loss: 1.5372, Valid Loss: 1.4874\n",
      "================================================================================\n",
      "\n",
      "Epoch: 19/30, Iteration 60/124, Train Loss: 1.5377, Valid Loss: 1.4858\n",
      "================================================================================\n",
      "\n",
      "Epoch: 19/30, Iteration 80/124, Train Loss: 1.5387, Valid Loss: 1.4886\n",
      "================================================================================\n",
      "\n",
      "Epoch: 19/30, Iteration 100/124, Train Loss: 1.5396, Valid Loss: 1.4863\n",
      "================================================================================\n",
      "\n",
      "Epoch: 19/30, Iteration 120/124, Train Loss: 1.5387, Valid Loss: 1.4816\n",
      "================================================================================\n",
      "\n",
      "Epoch: 19/30, Iteration 124/124, Train Loss: 1.5381, Valid Loss: 1.4808\n",
      "\n",
      "================================================================================\n",
      "================================================================================\n",
      "================================================================================\n",
      "================================================================================\n",
      "\n",
      "Epoch: 20/30, Iteration 20/124, Train Loss: 1.5349, Valid Loss: 1.4830\n",
      "================================================================================\n",
      "\n",
      "Epoch: 20/30, Iteration 40/124, Train Loss: 1.5294, Valid Loss: 1.4865\n",
      "================================================================================\n",
      "\n",
      "Epoch: 20/30, Iteration 60/124, Train Loss: 1.5301, Valid Loss: 1.4816\n",
      "================================================================================\n",
      "\n",
      "Epoch: 20/30, Iteration 80/124, Train Loss: 1.5308, Valid Loss: 1.4829\n",
      "================================================================================\n",
      "\n",
      "Epoch: 20/30, Iteration 100/124, Train Loss: 1.5329, Valid Loss: 1.4812\n",
      "================================================================================\n",
      "\n",
      "Epoch: 20/30, Iteration 120/124, Train Loss: 1.5319, Valid Loss: 1.4791\n",
      "================================================================================\n",
      "\n",
      "Epoch: 20/30, Iteration 124/124, Train Loss: 1.5313, Valid Loss: 1.4817\n",
      "\n",
      "================================================================================\n",
      "================================================================================\n",
      "================================================================================\n",
      "================================================================================\n",
      "\n",
      "Epoch: 21/30, Iteration 20/124, Train Loss: 1.5297, Valid Loss: 1.4806\n",
      "================================================================================\n",
      "\n",
      "Epoch: 21/30, Iteration 40/124, Train Loss: 1.5228, Valid Loss: 1.4780\n",
      "================================================================================\n",
      "\n",
      "Epoch: 21/30, Iteration 60/124, Train Loss: 1.5243, Valid Loss: 1.4758\n",
      "================================================================================\n",
      "\n",
      "Epoch: 21/30, Iteration 80/124, Train Loss: 1.5261, Valid Loss: 1.4781\n",
      "================================================================================\n",
      "\n",
      "Epoch: 21/30, Iteration 100/124, Train Loss: 1.5276, Valid Loss: 1.4747\n",
      "================================================================================\n",
      "\n",
      "Epoch: 21/30, Iteration 120/124, Train Loss: 1.5268, Valid Loss: 1.4728\n",
      "================================================================================\n",
      "\n",
      "Epoch: 21/30, Iteration 124/124, Train Loss: 1.5261, Valid Loss: 1.4768\n",
      "\n",
      "================================================================================\n",
      "================================================================================\n",
      "================================================================================\n",
      "================================================================================\n",
      "\n",
      "Epoch: 22/30, Iteration 20/124, Train Loss: 1.5220, Valid Loss: 1.4711\n",
      "================================================================================\n",
      "\n",
      "Epoch: 22/30, Iteration 40/124, Train Loss: 1.5146, Valid Loss: 1.4696\n",
      "================================================================================\n",
      "\n",
      "Epoch: 22/30, Iteration 60/124, Train Loss: 1.5165, Valid Loss: 1.4702\n",
      "================================================================================\n",
      "\n",
      "Epoch: 22/30, Iteration 80/124, Train Loss: 1.5196, Valid Loss: 1.4728\n",
      "================================================================================\n",
      "\n",
      "Epoch: 22/30, Iteration 100/124, Train Loss: 1.5214, Valid Loss: 1.4696\n",
      "================================================================================\n",
      "\n",
      "Epoch: 22/30, Iteration 120/124, Train Loss: 1.5206, Valid Loss: 1.4682\n",
      "================================================================================\n",
      "\n",
      "Epoch: 22/30, Iteration 124/124, Train Loss: 1.5202, Valid Loss: 1.4705\n",
      "\n",
      "================================================================================\n",
      "================================================================================\n",
      "================================================================================\n",
      "================================================================================\n",
      "\n",
      "Epoch: 23/30, Iteration 20/124, Train Loss: 1.5186, Valid Loss: 1.4689\n",
      "================================================================================\n",
      "\n",
      "Epoch: 23/30, Iteration 40/124, Train Loss: 1.5118, Valid Loss: 1.4664\n",
      "================================================================================\n",
      "\n",
      "Epoch: 23/30, Iteration 60/124, Train Loss: 1.5123, Valid Loss: 1.4688\n",
      "================================================================================\n",
      "\n",
      "Epoch: 23/30, Iteration 80/124, Train Loss: 1.5148, Valid Loss: 1.4710\n",
      "================================================================================\n",
      "\n",
      "Epoch: 23/30, Iteration 100/124, Train Loss: 1.5163, Valid Loss: 1.4708\n",
      "================================================================================\n",
      "\n",
      "Epoch: 23/30, Iteration 120/124, Train Loss: 1.5156, Valid Loss: 1.4645\n",
      "================================================================================\n",
      "\n",
      "Epoch: 23/30, Iteration 124/124, Train Loss: 1.5150, Valid Loss: 1.4675\n",
      "\n",
      "================================================================================\n",
      "================================================================================\n",
      "================================================================================\n",
      "================================================================================\n",
      "\n",
      "Epoch: 24/30, Iteration 20/124, Train Loss: 1.5177, Valid Loss: 1.4628\n",
      "================================================================================\n",
      "\n",
      "Epoch: 24/30, Iteration 40/124, Train Loss: 1.5080, Valid Loss: 1.4629\n",
      "================================================================================\n",
      "\n",
      "Epoch: 24/30, Iteration 60/124, Train Loss: 1.5088, Valid Loss: 1.4619\n",
      "================================================================================\n",
      "\n",
      "Epoch: 24/30, Iteration 80/124, Train Loss: 1.5105, Valid Loss: 1.4647\n",
      "================================================================================\n",
      "\n",
      "Epoch: 24/30, Iteration 100/124, Train Loss: 1.5121, Valid Loss: 1.4650\n",
      "================================================================================\n",
      "\n",
      "Epoch: 24/30, Iteration 120/124, Train Loss: 1.5114, Valid Loss: 1.4596\n",
      "================================================================================\n",
      "\n",
      "Epoch: 24/30, Iteration 124/124, Train Loss: 1.5109, Valid Loss: 1.4628\n",
      "\n",
      "================================================================================\n",
      "================================================================================\n",
      "================================================================================\n",
      "================================================================================\n",
      "\n",
      "Epoch: 25/30, Iteration 20/124, Train Loss: 1.5121, Valid Loss: 1.4612\n",
      "================================================================================\n",
      "\n",
      "Epoch: 25/30, Iteration 40/124, Train Loss: 1.5032, Valid Loss: 1.4587\n",
      "================================================================================\n",
      "\n",
      "Epoch: 25/30, Iteration 60/124, Train Loss: 1.5041, Valid Loss: 1.4588\n",
      "================================================================================\n",
      "\n",
      "Epoch: 25/30, Iteration 80/124, Train Loss: 1.5064, Valid Loss: 1.4632\n",
      "================================================================================\n",
      "\n",
      "Epoch: 25/30, Iteration 100/124, Train Loss: 1.5081, Valid Loss: 1.4634\n",
      "================================================================================\n",
      "\n",
      "Epoch: 25/30, Iteration 120/124, Train Loss: 1.5072, Valid Loss: 1.4579\n",
      "================================================================================\n",
      "\n",
      "Epoch: 25/30, Iteration 124/124, Train Loss: 1.5067, Valid Loss: 1.4645\n",
      "\n",
      "================================================================================\n",
      "================================================================================\n",
      "================================================================================\n",
      "================================================================================\n",
      "\n",
      "Epoch: 26/30, Iteration 20/124, Train Loss: 1.5086, Valid Loss: 1.4588\n",
      "================================================================================\n",
      "\n",
      "Epoch: 26/30, Iteration 40/124, Train Loss: 1.5008, Valid Loss: 1.4579\n",
      "================================================================================\n",
      "\n",
      "Epoch: 26/30, Iteration 60/124, Train Loss: 1.5016, Valid Loss: 1.4603\n",
      "================================================================================\n",
      "\n",
      "Epoch: 26/30, Iteration 80/124, Train Loss: 1.5037, Valid Loss: 1.4591\n",
      "================================================================================\n",
      "\n",
      "Epoch: 26/30, Iteration 100/124, Train Loss: 1.5050, Valid Loss: 1.4594\n",
      "================================================================================\n",
      "\n",
      "Epoch: 26/30, Iteration 120/124, Train Loss: 1.5043, Valid Loss: 1.4534\n",
      "================================================================================\n",
      "\n",
      "Epoch: 26/30, Iteration 124/124, Train Loss: 1.5036, Valid Loss: 1.4570\n",
      "\n",
      "================================================================================\n",
      "================================================================================\n",
      "================================================================================\n",
      "================================================================================\n",
      "\n",
      "Epoch: 27/30, Iteration 20/124, Train Loss: 1.5029, Valid Loss: 1.4547\n",
      "================================================================================\n",
      "\n",
      "Epoch: 27/30, Iteration 40/124, Train Loss: 1.4954, Valid Loss: 1.4541\n",
      "================================================================================\n",
      "\n",
      "Epoch: 27/30, Iteration 60/124, Train Loss: 1.4960, Valid Loss: 1.4549\n",
      "================================================================================\n",
      "\n",
      "Epoch: 27/30, Iteration 80/124, Train Loss: 1.4977, Valid Loss: 1.4560\n",
      "================================================================================\n",
      "\n",
      "Epoch: 27/30, Iteration 100/124, Train Loss: 1.4995, Valid Loss: 1.4562\n",
      "================================================================================\n",
      "\n",
      "Epoch: 27/30, Iteration 120/124, Train Loss: 1.4991, Valid Loss: 1.4509\n",
      "================================================================================\n",
      "\n",
      "Epoch: 27/30, Iteration 124/124, Train Loss: 1.4986, Valid Loss: 1.4518\n",
      "\n",
      "================================================================================\n",
      "================================================================================\n",
      "================================================================================\n",
      "================================================================================\n",
      "\n",
      "Epoch: 28/30, Iteration 20/124, Train Loss: 1.4972, Valid Loss: 1.4548\n",
      "================================================================================\n",
      "\n",
      "Epoch: 28/30, Iteration 40/124, Train Loss: 1.4915, Valid Loss: 1.4534\n",
      "================================================================================\n",
      "\n",
      "Epoch: 28/30, Iteration 60/124, Train Loss: 1.4934, Valid Loss: 1.4531\n",
      "================================================================================\n",
      "\n",
      "Epoch: 28/30, Iteration 80/124, Train Loss: 1.4953, Valid Loss: 1.4560\n",
      "================================================================================\n",
      "\n",
      "Epoch: 28/30, Iteration 100/124, Train Loss: 1.4966, Valid Loss: 1.4528\n",
      "================================================================================\n",
      "\n",
      "Epoch: 28/30, Iteration 120/124, Train Loss: 1.4960, Valid Loss: 1.4513\n",
      "================================================================================\n",
      "\n",
      "Epoch: 28/30, Iteration 124/124, Train Loss: 1.4955, Valid Loss: 1.4495\n",
      "\n",
      "================================================================================\n",
      "================================================================================\n",
      "================================================================================\n",
      "================================================================================\n",
      "\n",
      "Epoch: 29/30, Iteration 20/124, Train Loss: 1.4945, Valid Loss: 1.4499\n",
      "================================================================================\n",
      "\n",
      "Epoch: 29/30, Iteration 40/124, Train Loss: 1.4877, Valid Loss: 1.4501\n",
      "================================================================================\n",
      "\n",
      "Epoch: 29/30, Iteration 60/124, Train Loss: 1.4887, Valid Loss: 1.4514\n",
      "================================================================================\n",
      "\n",
      "Epoch: 29/30, Iteration 80/124, Train Loss: 1.4917, Valid Loss: 1.4518\n",
      "================================================================================\n",
      "\n",
      "Epoch: 29/30, Iteration 100/124, Train Loss: 1.4933, Valid Loss: 1.4502\n",
      "================================================================================\n",
      "\n",
      "Epoch: 29/30, Iteration 120/124, Train Loss: 1.4924, Valid Loss: 1.4502\n",
      "================================================================================\n",
      "\n",
      "Epoch: 29/30, Iteration 124/124, Train Loss: 1.4920, Valid Loss: 1.4506\n",
      "\n",
      "================================================================================\n",
      "================================================================================\n",
      "================================================================================\n",
      "================================================================================\n",
      "\n",
      "Epoch: 30/30, Iteration 20/124, Train Loss: 1.4922, Valid Loss: 1.4464\n",
      "================================================================================\n",
      "\n",
      "Epoch: 30/30, Iteration 40/124, Train Loss: 1.4848, Valid Loss: 1.4490\n",
      "================================================================================\n",
      "\n",
      "Epoch: 30/30, Iteration 60/124, Train Loss: 1.4860, Valid Loss: 1.4508\n",
      "================================================================================\n",
      "\n",
      "Epoch: 30/30, Iteration 80/124, Train Loss: 1.4882, Valid Loss: 1.4475\n",
      "================================================================================\n",
      "\n",
      "Epoch: 30/30, Iteration 100/124, Train Loss: 1.4899, Valid Loss: 1.4468\n",
      "================================================================================\n",
      "\n",
      "Epoch: 30/30, Iteration 120/124, Train Loss: 1.4893, Valid Loss: 1.4450\n",
      "================================================================================\n",
      "\n",
      "Epoch: 30/30, Iteration 124/124, Train Loss: 1.4887, Valid Loss: 1.4472\n",
      "\n",
      "================================================================================\n",
      "================================================================================\n",
      "================================================================================\n"
     ]
    }
   ],
   "source": [
    "running_train_loss = list()\n",
    "running_val_loss = list()\n",
    "\n",
    "### Outer training loop\n",
    "for epoch in range(1, epochs + 1):\n",
    "    h = model.init_hidden_state(mean = 0., stddev = .5)\n",
    "    iteration = 0\n",
    "    train_losses = list()\n",
    "    \n",
    "    ### Inner training loop\n",
    "    for X, y in batch_sequence(encoded_text, batch_size, seq_length)[0]:\n",
    "        X = one_hot_encode(X, len(unique_char))\n",
    "        X, y = torch.as_tensor(X).to(device), torch.as_tensor(y).to(device)\n",
    "        \n",
    "        model.train()\n",
    "        iteration += 1\n",
    "        \n",
    "        h = tuple([each.data for each in h]) if type(h) == tuple else h.data\n",
    "        opt.zero_grad()\n",
    "        \n",
    "        outputs, h = model(X, h)\n",
    "        \n",
    "        loss = criterion(outputs, y.reshape(-1,).long())\n",
    "        \n",
    "        loss.backward(retain_graph = True)\n",
    "        nn.utils.clip_grad_norm_(model.parameters(), max_norm)\n",
    "        opt.step()\n",
    "        \n",
    "        train_losses.append(loss.detach().cpu().item())\n",
    "        \n",
    "        ### Outer validation loop\n",
    "        if (not iteration % 20) or (iteration == num_batches):\n",
    "            i = 0\n",
    "            val_losses = list()\n",
    "            model.eval()\n",
    "            val_h = model.init_hidden_state(mean = 0., stddev = .5)\n",
    "            \n",
    "            ### Inner validation loop\n",
    "            with torch.inference_mode():\n",
    "                for X_, y_ in batch_sequence(encoded_val, batch_size, seq_length)[0]:\n",
    "                    i += 1\n",
    "\n",
    "                    val_h = tuple([each.data for each in val_h]) if type(val_h) == tuple else val_h.data\n",
    "\n",
    "                    X_ = torch.as_tensor(one_hot_encode(X_, len(unique_chars))).to(device)\n",
    "                    y_ = torch.as_tensor(y_).to(device)\n",
    "\n",
    "                    outputs_, val_h = model(X_, val_h)\n",
    "\n",
    "                    val_loss = criterion(outputs_, y_.reshape(-1,).long())\n",
    "                    val_losses.append(val_loss.detach().cpu().item())\n",
    "\n",
    "                ### Report training and validation losses\n",
    "                val_loss = torch.Tensor(val_losses).mean().item()\n",
    "\n",
    "                train_loss = torch.Tensor(train_losses).mean().item()\n",
    "            \n",
    "            running_train_loss.append(train_loss)\n",
    "            running_val_loss.append(val_loss)\n",
    "            \n",
    "            print('='*80+\"\\n\")\n",
    "            print(f'Epoch: {epoch}/{epochs}, Iteration {iteration}/{num_batches},',\n",
    "                  f'Train Loss: {train_loss:.4f}, Valid Loss: {val_loss:.4f}')\n",
    "        \n",
    "    print('\\n'+'='*80)\n",
    "    print('='*80)\n",
    "    print('='*80)\n",
    "    #print('='*60)\n",
    "    #print(f'Epoch: {epoch}/{epochs}, Train Loss: {train_loss:.4f}, Valid Loss: {val_loss:.4f}\\n')\n",
    "    #print('='*60)"
   ]
  },
  {
   "cell_type": "code",
   "execution_count": 49,
   "id": "6e6d7e28",
   "metadata": {},
   "outputs": [
    {
     "data": {
      "text/plain": "<Figure size 2000x1000 with 1 Axes>",
      "image/png": "[encoded data removed]"
     },
     "metadata": {},
     "output_type": "display_data"
    }
   ],
   "source": [
    "plt.figure(figsize = (20, 10))\n",
    "plt.plot(range(len(running_train_loss)), running_train_loss, label = \"Training loss\")\n",
    "plt.plot(range(len(running_val_loss)), running_val_loss, label = \"Validation loss\")\n",
    "plt.xlabel(\"Iterations\")\n",
    "plt.ylabel(\"Loss\")\n",
    "plt.suptitle(\"Loss over iterations (RNN)\", fontsize = 20)\n",
    "plt.legend()\n",
    "plt.show(); plt.close(\"all\")"
   ]
  },
  {
   "cell_type": "code",
   "execution_count": 50,
   "id": "ef59c647",
   "metadata": {},
   "outputs": [],
   "source": [
    "### Freeze model weights\n",
    "model.requires_grad_ = False"
   ]
  },
  {
   "cell_type": "code",
   "execution_count": 51,
   "id": "b19040ea",
   "metadata": {},
   "outputs": [],
   "source": [
    "int2char = encoding_results.int2char\n",
    "char2int = encoding_results.char2int"
   ]
  },
  {
   "cell_type": "code",
   "execution_count": 52,
   "id": "d48c2df7",
   "metadata": {},
   "outputs": [],
   "source": [
    "seed = \"Lan al'Mandragoran went up the mountain\"\n",
    "k = 5"
   ]
  },
  {
   "cell_type": "code",
   "execution_count": 53,
   "id": "46c9ddfb",
   "metadata": {},
   "outputs": [],
   "source": [
    "def predict(x, h, net, k = 5):\n",
    "    x = np.array([[char2int[x]]])\n",
    "    x = one_hot_encode(x, len(unique_chars))\n",
    "    x = torch.from_numpy(x).to(device).contiguous()\n",
    "    \n",
    "    out, h = net(x, h)\n",
    "    p = F.softmax(out, dim = -1).data\n",
    "    p, chars = p.topk(k, dim=-1)\n",
    "    \n",
    "    chars = chars.detach().cpu().numpy().squeeze()\n",
    "    p = p.detach().cpu().numpy().squeeze()\n",
    "    \n",
    "    return np.random.choice(chars, p = p/p.sum()), h"
   ]
  },
  {
   "cell_type": "code",
   "execution_count": 54,
   "id": "bc5bef37",
   "metadata": {},
   "outputs": [
    {
     "data": {
      "text/plain": "(34,\n tensor([[[ 0.4492,  0.2449, -0.0824,  ..., -0.0046,  0.3505,  0.3641]],\n \n         [[-0.3543,  0.8008, -0.0643,  ..., -0.4979, -0.9657, -0.4798]]],\n        device='cuda:0', grad_fn=<CudnnRnnBackward0>))"
     },
     "execution_count": 54,
     "metadata": {},
     "output_type": "execute_result"
    }
   ],
   "source": [
    "h = torch.distributions.Normal(scale = 0.5, loc = 0.).sample((num_layers, 1, hidden_size)).zero_().to(device)\n",
    "predict(\"D\", h, model, 5)"
   ]
  },
  {
   "cell_type": "code",
   "execution_count": 55,
   "id": "62b5dc08",
   "metadata": {},
   "outputs": [],
   "source": [
    "def prime_model(model, seed, k):\n",
    "    seed_list = list(seed)\n",
    "\n",
    "    h = torch.distributions.Normal(scale = 0.5, loc = 0.).sample((num_layers, 1, hidden_size)).to(device)\n",
    "    if model.base_rnn == nn.LSTM:\n",
    "        b = torch.distributions.Normal(scale = 0.5, loc = 0.).sample((num_layers, 1, hidden_size))\n",
    "        h = (h, b.to(device))\n",
    "\n",
    "    for char in seed_list:\n",
    "        h = tuple([each.data for each in h]) if type(h) == tuple else h.data\n",
    "        next_char, h = predict(char, h, model, k)\n",
    "\n",
    "    seed_list.append(int2char[next_char])\n",
    "\n",
    "    return seed_list, h"
   ]
  },
  {
   "cell_type": "markdown",
   "id": "c2f5886c",
   "metadata": {},
   "source": [
    "seed_list = list(seed)\n",
    "\n",
    "h = torch.distributions.Normal(scale = 0.5, loc = 0.).sample((num_layers, 1, hidden_size)).zero_().to(device)\n",
    "\n",
    "for char in seed_list:\n",
    "    h = h.data\n",
    "    next_char, h = predict(char, h, model, k)\n",
    "\n",
    "seed_list.append(int2char[next_char])\n",
    "seed_list_1 = seed_list.copy()\n",
    "seed_list_2 = seed_list.copy()"
   ]
  },
  {
   "cell_type": "code",
   "execution_count": 56,
   "id": "8f5b7718",
   "metadata": {},
   "outputs": [],
   "source": [
    "first_seed_list, h = prime_model(model, seed, k)"
   ]
  },
  {
   "cell_type": "code",
   "execution_count": 57,
   "id": "4da6f086",
   "metadata": {},
   "outputs": [
    {
     "name": "stdout",
     "output_type": "stream",
     "text": [
      "Lan al'Mandragoran went up the mountain \n"
     ]
    }
   ],
   "source": [
    "print(''.join(first_seed_list))"
   ]
  },
  {
   "cell_type": "code",
   "execution_count": 58,
   "id": "9fb55a96",
   "metadata": {},
   "outputs": [],
   "source": [
    "## Method 1\n",
    "for ii in range(1000):\n",
    "    h = h.data\n",
    "    next_char, h = predict(first_seed_list[-1], h, model, k)\n",
    "    first_seed_list.append(int2char[next_char])"
   ]
  },
  {
   "cell_type": "code",
   "execution_count": 59,
   "id": "fe480178",
   "metadata": {},
   "outputs": [],
   "source": [
    "seed = \"Why would you imagine that\"\n",
    "\n",
    "second_seed_list, h = prime_model(model, seed, k)"
   ]
  },
  {
   "cell_type": "code",
   "execution_count": 60,
   "id": "fa765dee",
   "metadata": {},
   "outputs": [],
   "source": [
    "## Method 2\n",
    "for ix in range(1000):\n",
    "    h = h.data\n",
    "    x = np.array(char2int[second_seed_list[-1]]).reshape(1, -1)\n",
    "    x = one_hot_encode(x, len(unique_char))\n",
    "    x = torch.tensor(x).to(device)\n",
    "    out, h = model(x, h)\n",
    "    \n",
    "    p = F.softmax(out, dim=-1)\n",
    "    p, chars = p.topk(k = k, dim=-1)\n",
    "    chars = chars.detach().cpu().numpy().squeeze()\n",
    "    p = p.detach().cpu().numpy().squeeze()\n",
    "    second_seed_list.append(int2char[np.random.choice(chars, p = p/p.sum())])\n",
    "    #next_char = chars[torch.distributions.Uniform(low = 0, high = k).sample().to(torch.int32).item()].item()\n",
    "    #seed_list.append(int2char[next_char])\n",
    "    "
   ]
  },
  {
   "cell_type": "code",
   "execution_count": 61,
   "id": "63effbd9",
   "metadata": {},
   "outputs": [],
   "source": [
    "### First generated text sample\n",
    "first_pred_text = ''.join(first_seed_list)"
   ]
  },
  {
   "cell_type": "code",
   "execution_count": 62,
   "id": "cf8bf079",
   "metadata": {},
   "outputs": [
    {
     "name": "stdout",
     "output_type": "stream",
     "text": [
      "Lan al'Mandragoran went up the mountain in the comminerily, and there were such and seet his ware in the same tore,\" she taken is in a\n",
      "should broushed in\n",
      "an the\n",
      "same taying the carsion with the\n",
      "searances and\n",
      "the painten, was\n",
      "asted she said to her, and that his head.\n",
      "\n",
      "\"What a there it, I'm\n",
      "not it toub to hare about it, she could not be that with their met a displess, sard in\n",
      "the counting on the somoush his hand, smelight to say at him at the seminared was\n",
      "saying to see you woll him at hamp answare show down on her his life, and alleating to her awder, would\n",
      "care a were the that she his his\n",
      "waided where he could not see, the saron his charring and was alone it's not time to be.\n",
      "\n",
      "\"I'm not onch of it would\n",
      "be abered and taken up her in a little\n",
      "tryong befales things, than he had been said, stinded and went out of thail inticances and ser had to\n",
      "the mushes and the same. She was prople dress him to tell you to hore the best\n",
      "thing,\"\n",
      "she talked through the counce.\n",
      "\n",
      "\"What in that sees, and he was antace, there wish, to say to a life.\n"
     ]
    }
   ],
   "source": [
    "print(first_pred_text)"
   ]
  },
  {
   "cell_type": "code",
   "execution_count": 63,
   "id": "55e7f62d",
   "metadata": {},
   "outputs": [],
   "source": [
    "### Second generated text sample\n",
    "second_pred_text = ''.join(second_seed_list)"
   ]
  },
  {
   "cell_type": "code",
   "execution_count": 64,
   "id": "0104ba81",
   "metadata": {},
   "outputs": [
    {
     "name": "stdout",
     "output_type": "stream",
     "text": [
      "Why would you imagine that the\n",
      "sores letter, there, and the something for many\n",
      "at the same\n",
      "conversation of the bot, that had han been all was happy to take them. But it seemed to and meat wother at the bad her face with a strack on at all the sayes the back, with the the thought, hose all the societied with horres and the courtes,\" he cale the docror.\n",
      "\n",
      "\"No, what is is, that wimed at the table contention, and tower at the partions. He did not answer that the sted, and the prain should sarithing her to her she seat the bouth, and the pact was sicting on a position that so taken at the paint time were all the some heart, both things\n",
      "and tore,\" said the same temply.\n",
      "\n",
      "\"I dancide his which\n",
      "coustres in whith she would have thanged to her, and a sont say that he was so mund him taktit he went on.\n",
      "\n",
      "\"Oh, never be indreds it was that was shining a consise of the senses, and he crickling on\n",
      "the book. And in she can him to his simply to the\n",
      "pooricele sama the sees though she was not to think heare with the sense at\n",
      "the begtn\n"
     ]
    }
   ],
   "source": [
    "print(second_pred_text)"
   ]
  },
  {
   "cell_type": "code",
   "execution_count": 64,
   "id": "eef8545f",
   "metadata": {},
   "outputs": [],
   "source": []
  }
 ],
 "metadata": {
  "kernelspec": {
   "display_name": "Python 3 (ipykernel)",
   "language": "python",
   "name": "python3"
  },
  "language_info": {
   "codemirror_mode": {
    "name": "ipython",
    "version": 3
   },
   "file_extension": ".py",
   "mimetype": "text/x-python",
   "name": "python",
   "nbconvert_exporter": "python",
   "pygments_lexer": "ipython3",
   "version": "3.9.13"
  }
 },
 "nbformat": 4,
 "nbformat_minor": 5
}
